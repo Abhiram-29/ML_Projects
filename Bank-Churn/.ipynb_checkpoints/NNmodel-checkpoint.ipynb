{
 "cells": [
  {
   "cell_type": "code",
   "execution_count": 6,
   "id": "63160dfa-83f0-41d6-a16c-cd2e44a2b920",
   "metadata": {},
   "outputs": [],
   "source": [
    "import numpy as np \n",
    "import pandas as pd \n",
    "import matplotlib.pyplot as plt \n",
    "import tensorflow as tf \n",
    "from tensorflow.keras.layers import Dense\n",
    "from sklearn.preprocessing import StandardScaler\n",
    "from sklearn.model_selection import train_test_split\n",
    "from sklearn.preprocessing import OneHotEncoder,LabelEncoder"
   ]
  },
  {
   "cell_type": "code",
   "execution_count": 15,
   "id": "082a9242-e491-4e12-8136-0a74da4dc3c3",
   "metadata": {},
   "outputs": [],
   "source": [
    "trainData = pd.read_csv(\"./train.csv\")\n",
    "testData = pd.read_csv(\"./test.csv\")"
   ]
  },
  {
   "cell_type": "code",
   "execution_count": 16,
   "id": "7a1cb4bd-631c-4b3c-84d3-bfa0b9c0a6a6",
   "metadata": {},
   "outputs": [
    {
     "data": {
      "text/plain": [
       "{'id': 165034,\n",
       " 'CustomerId': 23221,\n",
       " 'Surname': 2797,\n",
       " 'CreditScore': 457,\n",
       " 'Geography': 3,\n",
       " 'Gender': 2,\n",
       " 'Age': 71,\n",
       " 'Tenure': 11,\n",
       " 'Balance': 30075,\n",
       " 'NumOfProducts': 4,\n",
       " 'HasCrCard': 2,\n",
       " 'IsActiveMember': 2,\n",
       " 'EstimatedSalary': 55298,\n",
       " 'Exited': 2}"
      ]
     },
     "execution_count": 16,
     "metadata": {},
     "output_type": "execute_result"
    }
   ],
   "source": [
    "uniqueValues = {col: trainData[col].nunique() for col in trainData.columns}\n",
    "uniqueValues"
   ]
  },
  {
   "cell_type": "code",
   "execution_count": 22,
   "id": "e35f6d3a-3245-4b18-a5be-ccbd66579b1a",
   "metadata": {},
   "outputs": [
    {
     "name": "stdout",
     "output_type": "stream",
     "text": [
      "<class 'pandas.core.frame.DataFrame'>\n",
      "RangeIndex: 165034 entries, 0 to 165033\n",
      "Data columns (total 14 columns):\n",
      " #   Column           Non-Null Count   Dtype  \n",
      "---  ------           --------------   -----  \n",
      " 0   id               165034 non-null  int64  \n",
      " 1   CustomerId       165034 non-null  int64  \n",
      " 2   Surname          165034 non-null  object \n",
      " 3   CreditScore      165034 non-null  int64  \n",
      " 4   Geography        165034 non-null  object \n",
      " 5   Gender           165034 non-null  object \n",
      " 6   Age              165034 non-null  float64\n",
      " 7   Tenure           165034 non-null  int64  \n",
      " 8   Balance          165034 non-null  float64\n",
      " 9   NumOfProducts    165034 non-null  int64  \n",
      " 10  HasCrCard        165034 non-null  float64\n",
      " 11  IsActiveMember   165034 non-null  float64\n",
      " 12  EstimatedSalary  165034 non-null  float64\n",
      " 13  Exited           165034 non-null  int64  \n",
      "dtypes: float64(5), int64(6), object(3)\n",
      "memory usage: 17.6+ MB\n"
     ]
    }
   ],
   "source": [
    "trainData.info()"
   ]
  },
  {
   "cell_type": "code",
   "execution_count": 20,
   "id": "be52dee2-6dbe-4186-83d2-4a50fe116573",
   "metadata": {},
   "outputs": [
    {
     "data": {
      "text/plain": [
       "(850, 350)"
      ]
     },
     "execution_count": 20,
     "metadata": {},
     "output_type": "execute_result"
    }
   ],
   "source": [
    "trainData.CreditScore.max() , trainData.CreditScore.min()"
   ]
  },
  {
   "cell_type": "markdown",
   "id": "03b68b09-b2c2-41ff-b9ba-0ba61df637be",
   "metadata": {},
   "source": [
    "# About the data\n",
    "\n",
    "The CustomerId column has too many unique values and if of no use\\\n",
    "The Surname column can be labelEncoded and could provide info\\\n",
    "We can add a feature GoodCreditScore if credit score is greater than 670\\\n",
    "Geography , Gender NumOfProducts can be oneHot Encoded\\\n",
    "The last column Exited is the target column"
   ]
  },
  {
   "cell_type": "code",
   "execution_count": 32,
   "id": "59c38f22-d3b8-4ce6-8683-75c6ce99a4ee",
   "metadata": {},
   "outputs": [],
   "source": [
    "X_train = trainData.iloc[:,:-1] \n",
    "y_train = trainData.iloc[:,-1]\n",
    "X_test = pd.read_csv('./X_test.csv')"
   ]
  },
  {
   "cell_type": "code",
   "execution_count": null,
   "id": "abaf66ed-47e5-42cc-a9a1-f60b9aabde36",
   "metadata": {},
   "outputs": [],
   "source": [
    "# Lable encoding Surname\n",
    "labelEncoder = LabelEncoder()\n",
    "X_train."
   ]
  }
 ],
 "metadata": {
  "kernelspec": {
   "display_name": "Python 3 (ipykernel)",
   "language": "python",
   "name": "python3"
  },
  "language_info": {
   "codemirror_mode": {
    "name": "ipython",
    "version": 3
   },
   "file_extension": ".py",
   "mimetype": "text/x-python",
   "name": "python",
   "nbconvert_exporter": "python",
   "pygments_lexer": "ipython3",
   "version": "3.11.4"
  }
 },
 "nbformat": 4,
 "nbformat_minor": 5
}

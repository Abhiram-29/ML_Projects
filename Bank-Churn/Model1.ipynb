{
 "cells": [
  {
   "cell_type": "markdown",
   "id": "fbd7fc89-6788-44b0-b685-0e5a3fdab785",
   "metadata": {},
   "source": [
    "<b>Best Score: 0.88683 <br> Best Rank : 994 </b><br>\n",
    "XG boost , Ignoring the Customer ID and Surname Columns"
   ]
  },
  {
   "cell_type": "code",
   "execution_count": 1,
   "id": "c336f0d1-b448-46d1-8e5f-f9a4b607246a",
   "metadata": {},
   "outputs": [],
   "source": [
    "import pandas as pd \n",
    "import numpy as np \n",
    "from sklearn.model_selection import GridSearchCV\n",
    "from xgboost import XGBClassifier\n",
    "from datetime import datetime"
   ]
  },
  {
   "cell_type": "code",
   "execution_count": 2,
   "id": "9afcf45d-fbec-4873-bf5b-71f09ca73c37",
   "metadata": {},
   "outputs": [],
   "source": [
    "def timer(start_time=None):\n",
    "    if not start_time:\n",
    "        start_time = datetime.now()\n",
    "        return start_time\n",
    "    elif start_time:\n",
    "        thour, temp_sec = divmod((datetime.now() - start_time).total_seconds(), 3600)\n",
    "        tmin, tsec = divmod(temp_sec, 60)\n",
    "        print('\\n Time taken: %i hours %i minutes and %s seconds.' % (thour, tmin, round(tsec, 2)))\n"
   ]
  },
  {
   "cell_type": "code",
   "execution_count": 3,
   "id": "f919b112-52ac-4ce7-9c61-0cc596676a74",
   "metadata": {},
   "outputs": [
    {
     "data": {
      "text/plain": [
       "0    0\n",
       "1    0\n",
       "2    0\n",
       "3    0\n",
       "4    0\n",
       "Name: Exited, dtype: int64"
      ]
     },
     "execution_count": 3,
     "metadata": {},
     "output_type": "execute_result"
    }
   ],
   "source": [
    "X_train = pd.read_csv('./X_train.csv')\n",
    "X_test = pd.read_csv('./X_test.csv')\n",
    "y_train = pd.read_csv('./train.csv').iloc[:,-1]\n",
    "y_train.head()"
   ]
  },
  {
   "cell_type": "code",
   "execution_count": 4,
   "id": "7924940d-0f28-4f06-9402-2211653f8ccf",
   "metadata": {},
   "outputs": [],
   "source": [
    "xgb = XGBClassifier(objective='binary:logistic',device = 'cuda')"
   ]
  },
  {
   "cell_type": "code",
   "execution_count": 5,
   "id": "30f55f03-816c-41b7-8337-bda92c77feac",
   "metadata": {},
   "outputs": [],
   "source": [
    "params = {'learning_rate': [0.06], 'max_depth': [3], 'n_estimators': [900],\n",
    "         'gamma': [0],\n",
    "          'subsample' : [0.9],\n",
    "          'alpha': [0.005]\n",
    "         }"
   ]
  },
  {
   "cell_type": "markdown",
   "id": "992ce545-616c-4d82-b4c4-8f944e2599fd",
   "metadata": {},
   "source": [
    "Best score:\n",
    "0.7799549018813401<br>0.7801896788095903\n",
    "\n",
    " Best parameters:\n",
    "{'alpha': 0.005, 'gamma': 0, 'learning_rate': 0.06, 'max_depth': 3, 'n_estimators': 900, 'subsample': 0.9}\n",
    " Time taken: 0 hours 20 minutes and 25.86 seconds."
   ]
  },
  {
   "cell_type": "code",
   "execution_count": 6,
   "id": "4ef1ace2-bb0d-4be9-b19b-f7a09d528388",
   "metadata": {},
   "outputs": [
    {
     "name": "stdout",
     "output_type": "stream",
     "text": [
      "\n",
      " Time taken: 0 hours 0 minutes and 17.16 seconds.\n",
      "\n",
      " Best estimator:\n",
      "XGBClassifier(alpha=0.005, base_score=None, booster=None, callbacks=None,\n",
      "              colsample_bylevel=None, colsample_bynode=None,\n",
      "              colsample_bytree=None, device='cuda', early_stopping_rounds=None,\n",
      "              enable_categorical=False, eval_metric=None, feature_types=None,\n",
      "              gamma=0, grow_policy=None, importance_type=None,\n",
      "              interaction_constraints=None, learning_rate=0.06, max_bin=None,\n",
      "              max_cat_threshold=None, max_cat_to_onehot=None,\n",
      "              max_delta_step=None, max_depth=3, max_leaves=None,\n",
      "              min_child_weight=None, missing=nan, monotone_constraints=None,\n",
      "              multi_strategy=None, n_estimators=900, n_jobs=None,\n",
      "              num_parallel_tree=None, ...)\n",
      "\n",
      " Best score:\n",
      "0.7803109111594104\n",
      "\n",
      " Best parameters:\n",
      "{'alpha': 0.005, 'gamma': 0, 'learning_rate': 0.06, 'max_depth': 3, 'n_estimators': 900, 'subsample': 0.9}\n"
     ]
    }
   ],
   "source": [
    "start_time = timer(None)\n",
    "grid = GridSearchCV(xgb,param_grid= params,n_jobs=-1,cv=5,scoring='roc_auc')\n",
    "grid.fit(X_train,y_train)\n",
    "timer(start_time)\n",
    "print('\\n Best estimator:')\n",
    "print(grid.best_estimator_)\n",
    "print('\\n Best score:')\n",
    "print(grid.best_score_ * 2 - 1)\n",
    "print('\\n Best parameters:')\n",
    "print(grid.best_params_)"
   ]
  },
  {
   "cell_type": "code",
   "execution_count": 21,
   "id": "3ae93cb5-b4ee-40f8-8dbd-3ffb6468fa57",
   "metadata": {},
   "outputs": [
    {
     "data": {
      "text/plain": [
       "((110023,), (110023, 18))"
      ]
     },
     "execution_count": 21,
     "metadata": {},
     "output_type": "execute_result"
    }
   ],
   "source": [
    "id = pd.read_csv('./test.csv')[\n",
    "X_test = pd.read_csv('./X_test.csv')\n",
    "id.CustomerId.shape,X_test.shape"
   ]
  },
  {
   "cell_type": "code",
   "execution_count": 45,
   "id": "1047eeba-a69d-4e48-8e55-f8f946285a5c",
   "metadata": {},
   "outputs": [
    {
     "data": {
      "text/plain": [
       "(110023,)"
      ]
     },
     "execution_count": 45,
     "metadata": {},
     "output_type": "execute_result"
    }
   ],
   "source": [
    "y_test = grid.best_estimator_.predict_proba(X_test)\n",
    "pred = y_test[:,1]\n",
    "pred.shape\n",
    "# results_df.to_csv('submission1.csv', index=False)\n",
    "# results_df.head()"
   ]
  },
  {
   "cell_type": "code",
   "execution_count": 42,
   "id": "e5a48035-c15f-408f-95ce-9fa8f7e4e8df",
   "metadata": {},
   "outputs": [
    {
     "data": {
      "text/plain": [
       "0         165034\n",
       "1         165035\n",
       "2         165036\n",
       "3         165037\n",
       "4         165038\n",
       "           ...  \n",
       "110018    275052\n",
       "110019    275053\n",
       "110020    275054\n",
       "110021    275055\n",
       "110022    275056\n",
       "Name: id, Length: 110023, dtype: int64"
      ]
     },
     "execution_count": 42,
     "metadata": {},
     "output_type": "execute_result"
    }
   ],
   "source": [
    "id.iloc[:,0]"
   ]
  },
  {
   "cell_type": "code",
   "execution_count": 46,
   "id": "83b86e2d-ee62-452d-8f4f-74dd236a1dd8",
   "metadata": {},
   "outputs": [
    {
     "data": {
      "text/html": [
       "<div>\n",
       "<style scoped>\n",
       "    .dataframe tbody tr th:only-of-type {\n",
       "        vertical-align: middle;\n",
       "    }\n",
       "\n",
       "    .dataframe tbody tr th {\n",
       "        vertical-align: top;\n",
       "    }\n",
       "\n",
       "    .dataframe thead th {\n",
       "        text-align: right;\n",
       "    }\n",
       "</style>\n",
       "<table border=\"1\" class=\"dataframe\">\n",
       "  <thead>\n",
       "    <tr style=\"text-align: right;\">\n",
       "      <th></th>\n",
       "      <th>id</th>\n",
       "      <th>Exited</th>\n",
       "    </tr>\n",
       "  </thead>\n",
       "  <tbody>\n",
       "    <tr>\n",
       "      <th>0</th>\n",
       "      <td>165034</td>\n",
       "      <td>0.024734</td>\n",
       "    </tr>\n",
       "    <tr>\n",
       "      <th>1</th>\n",
       "      <td>165035</td>\n",
       "      <td>0.811951</td>\n",
       "    </tr>\n",
       "    <tr>\n",
       "      <th>2</th>\n",
       "      <td>165036</td>\n",
       "      <td>0.025377</td>\n",
       "    </tr>\n",
       "    <tr>\n",
       "      <th>3</th>\n",
       "      <td>165037</td>\n",
       "      <td>0.241364</td>\n",
       "    </tr>\n",
       "    <tr>\n",
       "      <th>4</th>\n",
       "      <td>165038</td>\n",
       "      <td>0.344504</td>\n",
       "    </tr>\n",
       "  </tbody>\n",
       "</table>\n",
       "</div>"
      ],
      "text/plain": [
       "       id    Exited\n",
       "0  165034  0.024734\n",
       "1  165035  0.811951\n",
       "2  165036  0.025377\n",
       "3  165037  0.241364\n",
       "4  165038  0.344504"
      ]
     },
     "execution_count": 46,
     "metadata": {},
     "output_type": "execute_result"
    }
   ],
   "source": [
    "pred = pred.reshape(-1)\n",
    "pred.shape\n",
    "results_df = pd.DataFrame(data={'id':id.iloc[:,0], 'Exited': pred})\n",
    "results_df.head()"
   ]
  },
  {
   "cell_type": "code",
   "execution_count": 47,
   "id": "46d7d048-4b82-4f1e-91a5-84ad8c63d03b",
   "metadata": {},
   "outputs": [],
   "source": [
    "results_df.to_csv('submission1.csv', index=False)"
   ]
  },
  {
   "cell_type": "code",
   "execution_count": 15,
   "id": "067e8d5c-97c7-42c6-8eb2-7dbc2f39a505",
   "metadata": {},
   "outputs": [
    {
     "data": {
      "text/plain": [
       "(110023,)"
      ]
     },
     "execution_count": 15,
     "metadata": {},
     "output_type": "execute_result"
    }
   ],
   "source": [
    "id.shape"
   ]
  },
  {
   "cell_type": "code",
   "execution_count": 13,
   "id": "78411624-14f0-4695-ae13-0cf3093fbaf6",
   "metadata": {},
   "outputs": [
    {
     "data": {
      "text/plain": [
       "((165034, 18), (165034, 18))"
      ]
     },
     "execution_count": 13,
     "metadata": {},
     "output_type": "execute_result"
    }
   ],
   "source": [
    "X_test.shape,X_train.shape"
   ]
  },
  {
   "cell_type": "code",
   "execution_count": 63,
   "id": "5b0a5129-b853-4324-8bbc-77dfca6aaf58",
   "metadata": {},
   "outputs": [
    {
     "data": {
      "text/plain": [
       "35.78333333333333"
      ]
     },
     "execution_count": 63,
     "metadata": {},
     "output_type": "execute_result"
    }
   ],
   "source": [
    "2147/60"
   ]
  },
  {
   "cell_type": "code",
   "execution_count": null,
   "id": "f7547e1e-b6d5-4b0d-bf17-8db8c015008d",
   "metadata": {},
   "outputs": [],
   "source": []
  }
 ],
 "metadata": {
  "kernelspec": {
   "display_name": "Python 3 (ipykernel)",
   "language": "python",
   "name": "python3"
  },
  "language_info": {
   "codemirror_mode": {
    "name": "ipython",
    "version": 3
   },
   "file_extension": ".py",
   "mimetype": "text/x-python",
   "name": "python",
   "nbconvert_exporter": "python",
   "pygments_lexer": "ipython3",
   "version": "3.11.4"
  }
 },
 "nbformat": 4,
 "nbformat_minor": 5
}

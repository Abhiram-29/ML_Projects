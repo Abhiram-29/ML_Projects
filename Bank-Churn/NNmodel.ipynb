{
 "cells": [
  {
   "cell_type": "code",
   "execution_count": 75,
   "id": "63160dfa-83f0-41d6-a16c-cd2e44a2b920",
   "metadata": {},
   "outputs": [],
   "source": [
    "import numpy as np \n",
    "import pandas as pd \n",
    "import matplotlib.pyplot as plt \n",
    "from tensorflow import keras\n",
    "from tensorflow.keras import layers\n",
    "from sklearn.preprocessing import StandardScaler\n",
    "from sklearn.model_selection import train_test_split\n",
    "from sklearn.preprocessing import OneHotEncoder,LabelEncoder\n",
    "import ipywidgets"
   ]
  },
  {
   "cell_type": "code",
   "execution_count": 2,
   "id": "082a9242-e491-4e12-8136-0a74da4dc3c3",
   "metadata": {},
   "outputs": [],
   "source": [
    "trainData = pd.read_csv(\"./train.csv\")\n",
    "testData = pd.read_csv(\"./test.csv\")"
   ]
  },
  {
   "cell_type": "code",
   "execution_count": 3,
   "id": "7a1cb4bd-631c-4b3c-84d3-bfa0b9c0a6a6",
   "metadata": {},
   "outputs": [
    {
     "data": {
      "text/plain": [
       "{'id': 165034,\n",
       " 'CustomerId': 23221,\n",
       " 'Surname': 2797,\n",
       " 'CreditScore': 457,\n",
       " 'Geography': 3,\n",
       " 'Gender': 2,\n",
       " 'Age': 71,\n",
       " 'Tenure': 11,\n",
       " 'Balance': 30075,\n",
       " 'NumOfProducts': 4,\n",
       " 'HasCrCard': 2,\n",
       " 'IsActiveMember': 2,\n",
       " 'EstimatedSalary': 55298,\n",
       " 'Exited': 2}"
      ]
     },
     "execution_count": 3,
     "metadata": {},
     "output_type": "execute_result"
    }
   ],
   "source": [
    "uniqueValues = {col: trainData[col].nunique() for col in trainData.columns}\n",
    "uniqueValues"
   ]
  },
  {
   "cell_type": "code",
   "execution_count": 4,
   "id": "e35f6d3a-3245-4b18-a5be-ccbd66579b1a",
   "metadata": {},
   "outputs": [
    {
     "name": "stdout",
     "output_type": "stream",
     "text": [
      "<class 'pandas.core.frame.DataFrame'>\n",
      "RangeIndex: 165034 entries, 0 to 165033\n",
      "Data columns (total 14 columns):\n",
      " #   Column           Non-Null Count   Dtype  \n",
      "---  ------           --------------   -----  \n",
      " 0   id               165034 non-null  int64  \n",
      " 1   CustomerId       165034 non-null  int64  \n",
      " 2   Surname          165034 non-null  object \n",
      " 3   CreditScore      165034 non-null  int64  \n",
      " 4   Geography        165034 non-null  object \n",
      " 5   Gender           165034 non-null  object \n",
      " 6   Age              165034 non-null  float64\n",
      " 7   Tenure           165034 non-null  int64  \n",
      " 8   Balance          165034 non-null  float64\n",
      " 9   NumOfProducts    165034 non-null  int64  \n",
      " 10  HasCrCard        165034 non-null  float64\n",
      " 11  IsActiveMember   165034 non-null  float64\n",
      " 12  EstimatedSalary  165034 non-null  float64\n",
      " 13  Exited           165034 non-null  int64  \n",
      "dtypes: float64(5), int64(6), object(3)\n",
      "memory usage: 17.6+ MB\n"
     ]
    }
   ],
   "source": [
    "trainData.info()"
   ]
  },
  {
   "cell_type": "code",
   "execution_count": 5,
   "id": "be52dee2-6dbe-4186-83d2-4a50fe116573",
   "metadata": {},
   "outputs": [
    {
     "data": {
      "text/plain": [
       "(850, 350)"
      ]
     },
     "execution_count": 5,
     "metadata": {},
     "output_type": "execute_result"
    }
   ],
   "source": [
    "trainData.CreditScore.max() , trainData.CreditScore.min()"
   ]
  },
  {
   "cell_type": "markdown",
   "id": "03b68b09-b2c2-41ff-b9ba-0ba61df637be",
   "metadata": {},
   "source": [
    "# About the data\n",
    "\n",
    "The CustomerId column has too many unique values and if of no use\\\n",
    "The Surname has new values in the test dataset that are not present in the train dataset do drop it\\\n",
    "We can add a feature GoodCreditScore if credit score is greater than 670\\\n",
    "Geography , Gender NumOfProducts can be oneHot Encoded\\\n",
    "The last column Exited is the target column"
   ]
  },
  {
   "cell_type": "code",
   "execution_count": 6,
   "id": "59c38f22-d3b8-4ce6-8683-75c6ce99a4ee",
   "metadata": {},
   "outputs": [],
   "source": [
    "X_train = trainData.iloc[:,:-1] \n",
    "y_train = trainData.iloc[:,-1]\n",
    "X_test = pd.read_csv('./test.csv')"
   ]
  },
  {
   "cell_type": "code",
   "execution_count": 7,
   "id": "abaf66ed-47e5-42cc-a9a1-f60b9aabde36",
   "metadata": {},
   "outputs": [],
   "source": [
    "# Lable encoding Surname\n",
    "X_train.drop([\"Surname\",\"id\",\"CustomerId\"],inplace=True,axis=1)\n",
    "X_test.drop([\"Surname\",\"id\",\"CustomerId\"],inplace=True,axis=1)"
   ]
  },
  {
   "cell_type": "code",
   "execution_count": 8,
   "id": "d937fd19-1a82-4f42-9ff5-8241192892c5",
   "metadata": {},
   "outputs": [
    {
     "name": "stdout",
     "output_type": "stream",
     "text": [
      "Unique values in the 'NumOfProducts' column:\n",
      "[2 1 3 4]\n"
     ]
    }
   ],
   "source": [
    "column_name = 'NumOfProducts'  # Replace with the name of your column\n",
    "unique_values = trainData[column_name].unique()\n",
    "print(f\"Unique values in the '{column_name}' column:\")\n",
    "print(unique_values)"
   ]
  },
  {
   "cell_type": "code",
   "execution_count": 9,
   "id": "7c2ead77-a204-407a-b8c0-24a1249528a5",
   "metadata": {},
   "outputs": [],
   "source": [
    "# One hot encoding\n",
    "catCols = ['Geography', 'Gender', 'NumOfProducts']\n",
    "\n",
    "oneHot = OneHotEncoder()\n",
    "X_train_encoded = oneHot.fit_transform(X_train[catCols])\n",
    "X_test_encoded = oneHot.transform(X_test[catCols])\n",
    "\n",
    "# Get the new column names from the one-hot encoder\n",
    "newCols = oneHot.get_feature_names_out(catCols)\n",
    "\n",
    "# Add the one-hot encoded columns to the existing DataFrames\n",
    "X_train = pd.concat([X_train, pd.DataFrame(X_train_encoded.toarray(), columns=newCols, index=X_train.index)], axis=1)\n",
    "X_test = pd.concat([X_test, pd.DataFrame(X_test_encoded.toarray(), columns=newCols, index=X_test.index)], axis=1)\n",
    "\n",
    "# Drop the original categorical columns\n",
    "X_train.drop(catCols, inplace=True, axis=1)\n",
    "X_test.drop(catCols, inplace=True, axis=1)"
   ]
  },
  {
   "cell_type": "code",
   "execution_count": 10,
   "id": "a7a1563d-320e-41e2-a6f3-0f42baabe5c5",
   "metadata": {},
   "outputs": [],
   "source": [
    "scaler = StandardScaler()\n",
    "X_train_scaled = pd.DataFrame(scaler.fit_transform(X_train),columns=X_train.columns)\n",
    "X_test_scaled = pd.DataFrame(scaler.transform(X_test),columns=X_test.columns)"
   ]
  },
  {
   "cell_type": "code",
   "execution_count": 11,
   "id": "08d69bf1-38c6-4f88-8917-39db278afb06",
   "metadata": {},
   "outputs": [],
   "source": [
    "# model = keras.Sequential([\n",
    "#     layers.Dense(16,activation='relu'),\n",
    "#     layers.Dropout(0.25),\n",
    "#     layers.Dense(8,activation='relu'),\n",
    "#     layers.Dense(4,activation='relu'),\n",
    "#     layers.Dense(1,activation='sigmoid')\n",
    "# ])\n",
    "model = keras.Sequential([\n",
    "    layers.Dense(32,activation='relu'),\n",
    "    layers.Dropout(0.25),\n",
    "    layers.Dense(16,activation='relu'),\n",
    "    layers.Dropout(0.25),\n",
    "    layers.Dense(4,activation='relu'),\n",
    "    layers.Dense(1,activation='sigmoid')\n",
    "])"
   ]
  },
  {
   "cell_type": "code",
   "execution_count": 12,
   "id": "b9ef5ecc-8a8a-472f-87c5-40d136c7ca08",
   "metadata": {},
   "outputs": [],
   "source": [
    "from keras.metrics import AUC\n",
    "model.compile( optimizer='adam',loss='binary_crossentropy',metrics=[\"accuracy\",AUC()])"
   ]
  },
  {
   "cell_type": "code",
   "execution_count": 13,
   "id": "a6338793-f65a-4b68-8b0a-490b3a8a5067",
   "metadata": {},
   "outputs": [],
   "source": [
    "x,x_v,y,y_v = train_test_split(X_train_scaled,y_train) "
   ]
  },
  {
   "cell_type": "code",
   "execution_count": 14,
   "id": "977e85a1-2d45-440d-bad9-d067fdecfa94",
   "metadata": {},
   "outputs": [
    {
     "data": {
      "text/plain": [
       "(41259, 16)"
      ]
     },
     "execution_count": 14,
     "metadata": {},
     "output_type": "execute_result"
    }
   ],
   "source": [
    "x_v.shape"
   ]
  },
  {
   "cell_type": "code",
   "execution_count": null,
   "id": "203eef73-fb86-4277-a967-dedccc33e5ea",
   "metadata": {},
   "outputs": [],
   "source": [
    "history = model.fit(x,y,epochs=40,validation_data=(x_v,y_v))"
   ]
  },
  {
   "cell_type": "code",
   "execution_count": null,
   "id": "64e71a0b-45e1-46a1-a5cd-dcc56d3dd54b",
   "metadata": {},
   "outputs": [],
   "source": [
    "y_train.dtypes"
   ]
  },
  {
   "cell_type": "code",
   "execution_count": null,
   "id": "6167cf56-53d7-489e-aa5e-30cfd028d24d",
   "metadata": {},
   "outputs": [],
   "source": [
    "history_dict2 = history_dict.copy()"
   ]
  },
  {
   "cell_type": "code",
   "execution_count": null,
   "id": "317ef5e9-cb93-4cc7-937f-2a19243aa96c",
   "metadata": {},
   "outputs": [],
   "source": [
    "history_dict = history.history\n",
    "history_dict.keys()"
   ]
  },
  {
   "cell_type": "code",
   "execution_count": null,
   "id": "249f69ee-f6f8-4ea0-b5e5-8db323581420",
   "metadata": {},
   "outputs": [],
   "source": [
    "accuracy = history_dict['accuracy']\n",
    "val_accuracy = history_dict['val_accuracy']\n",
    "auc = history_dict['auc_3']\n",
    "val_auc = history_dict['val_auc_3']\n",
    "epochs = range(1,len(accuracy)+1)\n",
    "plt.plot(epochs, auc, \"bo\", label=\"Training auc\")\n",
    "plt.plot(epochs, val_auc, \"b\", label=\"Validation auc\") \n",
    "plt.legend()\n",
    "plt.show()"
   ]
  },
  {
   "cell_type": "code",
   "execution_count": null,
   "id": "8e3c8a27-3d15-459e-9ec7-b05f5c1bbcd4",
   "metadata": {},
   "outputs": [],
   "source": [
    "plt.plot(epochs, accuracy, \"ro\", label=\"Training accuracy\")\n",
    "plt.plot(epochs, val_accuracy, \"r\", label=\"Validation accuracy\") \n",
    "plt.legend()\n",
    "plt.show()"
   ]
  },
  {
   "cell_type": "code",
   "execution_count": null,
   "id": "f21c5ad4-db4d-43ae-8b21-ec27db7ea34d",
   "metadata": {},
   "outputs": [],
   "source": [
    "predictions = model.predict(X_test_scaled)"
   ]
  },
  {
   "cell_type": "code",
   "execution_count": null,
   "id": "a654d8b7-89d5-48fd-af70-4449c6ef10af",
   "metadata": {},
   "outputs": [],
   "source": [
    "predictions = predictions.reshape(-1)\n",
    "results_df = pd.DataFrame(data={'id':testData.iloc[:,0], 'Exited': predictions})\n",
    "results_df.head()"
   ]
  },
  {
   "cell_type": "code",
   "execution_count": null,
   "id": "82255a3a-1875-4fde-8919-93ca2e656dff",
   "metadata": {},
   "outputs": [],
   "source": [
    "results_df.to_csv('nnSubmission.csv',index=False)"
   ]
  },
  {
   "cell_type": "markdown",
   "id": "728ba048-19c7-4d93-9ba7-b4bfea46c548",
   "metadata": {},
   "source": [
    "# Implementing Catboost classifier"
   ]
  },
  {
   "cell_type": "code",
   "execution_count": 25,
   "id": "e960cecf-1bc5-4be1-9aa5-34f0481e724b",
   "metadata": {},
   "outputs": [],
   "source": [
    "from sklearn.model_selection import RandomizedSearchCV\n",
    "from catboost import CatBoostClassifier"
   ]
  },
  {
   "cell_type": "code",
   "execution_count": 84,
   "id": "c14f45fd-4f1f-407e-b551-3d216706494b",
   "metadata": {},
   "outputs": [],
   "source": [
    "X = trainData.iloc[:,:-1] \n",
    "y = trainData.iloc[:,-1]\n",
    "X_test = pd.read_csv('./test.csv')\n",
    "X.drop([\"Surname\",\"id\",\"CustomerId\"],inplace=True,axis=1)\n",
    "X_test.drop([\"Surname\",\"id\",\"CustomerId\"],inplace=True,axis=1)"
   ]
  },
  {
   "cell_type": "code",
   "execution_count": 60,
   "id": "355c20a6-f08e-4ff9-ac89-28e09a6c6f6a",
   "metadata": {},
   "outputs": [
    {
     "data": {
      "text/plain": [
       "CreditScore                 int64\n",
       "Geography          string[python]\n",
       "Gender             string[python]\n",
       "Age                       float64\n",
       "Tenure                      int64\n",
       "Balance                   float64\n",
       "NumOfProducts               int64\n",
       "HasCrCard                 float64\n",
       "IsActiveMember            float64\n",
       "EstimatedSalary           float64\n",
       "dtype: object"
      ]
     },
     "execution_count": 60,
     "metadata": {},
     "output_type": "execute_result"
    }
   ],
   "source": [
    "X_train.dtypes"
   ]
  },
  {
   "cell_type": "code",
   "execution_count": 85,
   "id": "4adcab24-99c6-4fab-a9dc-98129649b4a4",
   "metadata": {},
   "outputs": [],
   "source": [
    "# Using apply(str) method\n",
    "# Convert float columns to string\n",
    "X_train['HasCrCard'] = X_train['HasCrCard'].astype(str)\n",
    "X_train['IsActiveMember'] = X_train['IsActiveMember'].astype(str)\n",
    "X_train['Geography'] = X_train['Geography'].astype(str)\n",
    "X_train['Gender'] = X_train['Gender'].astype(str)\n",
    "\n",
    "\n",
    "# Repeat for X_val and X_test if necessary\n",
    "X_val['HasCrCard'] = X_val['HasCrCard'].astype(str)\n",
    "X_val['IsActiveMember'] = X_val['IsActiveMember'].astype(str)\n",
    "X_val['Geography'] = X_val['Geography'].astype(str)\n",
    "X_val['Gender'] = X_val['Gender'].astype(str)\n",
    "\n",
    "\n",
    "X_test['HasCrCard'] = X_test['HasCrCard'].astype(str)\n",
    "X_test['IsActiveMember'] = X_test['IsActiveMember'].astype(str)\n",
    "X_test['Geography'] = X_test['Geography'].astype(str)\n",
    "X_test['Gender'] = X_test['Gender'].astype(str)\n",
    "\n",
    "X['HasCrCard'] = X['HasCrCard'].astype(str)\n",
    "X['IsActiveMember'] = X['IsActiveMember'].astype(str)\n",
    "X['Geography'] = X['Geography'].astype(str)\n",
    "X['Gender'] = X['Gender'].astype(str)\n"
   ]
  },
  {
   "cell_type": "code",
   "execution_count": 72,
   "id": "8cf1eb7e-a362-4cb1-b43d-109b8478fb75",
   "metadata": {},
   "outputs": [
    {
     "name": "stdout",
     "output_type": "stream",
     "text": [
      "CPU times: total: 0 ns\n",
      "Wall time: 0 ns\n"
     ]
    }
   ],
   "source": [
    "%%time\n",
    "\n",
    "catCols = ['Tenure','NumOfProducts','HasCrCard','IsActiveMember','Geography','Gender']\n",
    "catColsIndices = [X.columns.get_loc(col) for col in catCols]\n",
    "catColsIndices\n",
    "\n",
    "params = {\n",
    "    'eval_metric' : 'AUC' ,\n",
    "    'verbose' : 200, \n",
    "    'cat_features' : catColsIndices,\n",
    "    'early_stopping_rounds' : 50,\n",
    "    'task_type' : 'GPU'\n",
    "}\n",
    "\n"
   ]
  },
  {
   "cell_type": "code",
   "execution_count": 66,
   "id": "f0dbac0e-dfdb-4112-94b6-3dd056fe7753",
   "metadata": {},
   "outputs": [],
   "source": [
    "from catboost import Pool\n",
    "\n",
    "trainPool = Pool(X_train,label=y_train,cat_features=  catColsIndices)\n",
    "valPool = Pool(X_val,label = y_val,cat_features = catColsIndices) \n",
    "testPool = Pool(X_test,cat_features=catColsIndices) "
   ]
  },
  {
   "cell_type": "code",
   "execution_count": 76,
   "id": "796012e6-7717-4321-8e6b-67ca8b98a97d",
   "metadata": {},
   "outputs": [
    {
     "data": {
      "application/vnd.jupyter.widget-view+json": {
       "model_id": "9f2ac52def714eb1b5f326500857a18b",
       "version_major": 2,
       "version_minor": 0
      },
      "text/plain": [
       "MetricVisualizer(layout=Layout(align_self='stretch', height='500px'))"
      ]
     },
     "metadata": {},
     "output_type": "display_data"
    },
    {
     "name": "stdout",
     "output_type": "stream",
     "text": [
      "Learning rate set to 0.024282\n"
     ]
    },
    {
     "name": "stderr",
     "output_type": "stream",
     "text": [
      "Default metric period is 5 because AUC is/are not implemented for GPU\n"
     ]
    },
    {
     "name": "stdout",
     "output_type": "stream",
     "text": [
      "0:\ttest: 0.8733233\tbest: 0.8733233 (0)\ttotal: 80ms\tremaining: 6m 40s\n",
      "bestTest = 0.888651669\n",
      "bestIteration = 1134\n",
      "Shrink model to first 1135 iterations.\n",
      "CPU times: total: 33.7 s\n",
      "Wall time: 56.3 s\n"
     ]
    },
    {
     "data": {
      "text/plain": [
       "<catboost.core.CatBoostClassifier at 0x28fb3e56750>"
      ]
     },
     "execution_count": 76,
     "metadata": {},
     "output_type": "execute_result"
    }
   ],
   "source": [
    "%%time \n",
    "cbcInit = CatBoostClassifier(iterations=5000,**params)\n",
    "cbcInit.fit(trainPool, eval_set=valPool, verbose=2000, plot=True)"
   ]
  },
  {
   "cell_type": "code",
   "execution_count": 126,
   "id": "6f346ea6-832f-4689-b576-4e3c4d3ab97b",
   "metadata": {},
   "outputs": [],
   "source": [
    "predictions = cbcInit.predict_proba(X_test)"
   ]
  },
  {
   "cell_type": "code",
   "execution_count": 127,
   "id": "eb301623-e3a1-4ddb-ad27-ec9f1aa08301",
   "metadata": {},
   "outputs": [],
   "source": [
    "predictions = predictions[:,1]"
   ]
  },
  {
   "cell_type": "code",
   "execution_count": 128,
   "id": "ab8d2a71-9fd5-4488-80a4-49b10e99a7a2",
   "metadata": {},
   "outputs": [],
   "source": [
    "predictions = predictions.reshape(-1)\n",
    "results_df = pd.DataFrame(data={'id':testData.iloc[:,0], 'Exited': predictions})\n",
    "results_df.head()\n",
    "results_df.to_csv('nnSubmission.csv',index=False)"
   ]
  },
  {
   "cell_type": "code",
   "execution_count": null,
   "id": "8fb978e3-e5df-4ed8-b094-8f431c2e35db",
   "metadata": {},
   "outputs": [],
   "source": []
  }
 ],
 "metadata": {
  "kernelspec": {
   "display_name": "Python 3 (ipykernel)",
   "language": "python",
   "name": "python3"
  },
  "language_info": {
   "codemirror_mode": {
    "name": "ipython",
    "version": 3
   },
   "file_extension": ".py",
   "mimetype": "text/x-python",
   "name": "python",
   "nbconvert_exporter": "python",
   "pygments_lexer": "ipython3",
   "version": "3.11.4"
  }
 },
 "nbformat": 4,
 "nbformat_minor": 5
}

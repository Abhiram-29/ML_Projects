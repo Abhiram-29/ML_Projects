{
 "cells": [
  {
   "cell_type": "code",
   "execution_count": 1,
   "id": "63160dfa-83f0-41d6-a16c-cd2e44a2b920",
   "metadata": {},
   "outputs": [],
   "source": [
    "import numpy as np \n",
    "import pandas as pd \n",
    "import matplotlib.pyplot as plt \n",
    "from tensorflow import keras\n",
    "from tensorflow.keras import layers\n",
    "from sklearn.preprocessing import StandardScaler\n",
    "from sklearn.model_selection import train_test_split\n",
    "from sklearn.preprocessing import OneHotEncoder,LabelEncoder\n",
    "import ipywidgets"
   ]
  },
  {
   "cell_type": "code",
   "execution_count": 28,
   "id": "082a9242-e491-4e12-8136-0a74da4dc3c3",
   "metadata": {},
   "outputs": [],
   "source": [
    "trainData = pd.read_csv(\"./train.csv\")\n",
    "testData = pd.read_csv(\"./test.csv\")"
   ]
  },
  {
   "cell_type": "code",
   "execution_count": 3,
   "id": "7a1cb4bd-631c-4b3c-84d3-bfa0b9c0a6a6",
   "metadata": {},
   "outputs": [
    {
     "data": {
      "text/plain": [
       "{'id': 165034,\n",
       " 'CustomerId': 23221,\n",
       " 'Surname': 2797,\n",
       " 'CreditScore': 457,\n",
       " 'Geography': 3,\n",
       " 'Gender': 2,\n",
       " 'Age': 71,\n",
       " 'Tenure': 11,\n",
       " 'Balance': 30075,\n",
       " 'NumOfProducts': 4,\n",
       " 'HasCrCard': 2,\n",
       " 'IsActiveMember': 2,\n",
       " 'EstimatedSalary': 55298,\n",
       " 'Exited': 2}"
      ]
     },
     "execution_count": 3,
     "metadata": {},
     "output_type": "execute_result"
    }
   ],
   "source": [
    "uniqueValues = {col: trainData[col].nunique() for col in trainData.columns}\n",
    "uniqueValues"
   ]
  },
  {
   "cell_type": "code",
   "execution_count": 4,
   "id": "e35f6d3a-3245-4b18-a5be-ccbd66579b1a",
   "metadata": {},
   "outputs": [
    {
     "name": "stdout",
     "output_type": "stream",
     "text": [
      "<class 'pandas.core.frame.DataFrame'>\n",
      "RangeIndex: 165034 entries, 0 to 165033\n",
      "Data columns (total 14 columns):\n",
      " #   Column           Non-Null Count   Dtype  \n",
      "---  ------           --------------   -----  \n",
      " 0   id               165034 non-null  int64  \n",
      " 1   CustomerId       165034 non-null  int64  \n",
      " 2   Surname          165034 non-null  object \n",
      " 3   CreditScore      165034 non-null  int64  \n",
      " 4   Geography        165034 non-null  object \n",
      " 5   Gender           165034 non-null  object \n",
      " 6   Age              165034 non-null  float64\n",
      " 7   Tenure           165034 non-null  int64  \n",
      " 8   Balance          165034 non-null  float64\n",
      " 9   NumOfProducts    165034 non-null  int64  \n",
      " 10  HasCrCard        165034 non-null  float64\n",
      " 11  IsActiveMember   165034 non-null  float64\n",
      " 12  EstimatedSalary  165034 non-null  float64\n",
      " 13  Exited           165034 non-null  int64  \n",
      "dtypes: float64(5), int64(6), object(3)\n",
      "memory usage: 17.6+ MB\n"
     ]
    }
   ],
   "source": [
    "trainData.info()"
   ]
  },
  {
   "cell_type": "code",
   "execution_count": 5,
   "id": "be52dee2-6dbe-4186-83d2-4a50fe116573",
   "metadata": {},
   "outputs": [
    {
     "data": {
      "text/plain": [
       "(850, 350)"
      ]
     },
     "execution_count": 5,
     "metadata": {},
     "output_type": "execute_result"
    }
   ],
   "source": [
    "trainData.CreditScore.max() , trainData.CreditScore.min()"
   ]
  },
  {
   "cell_type": "markdown",
   "id": "03b68b09-b2c2-41ff-b9ba-0ba61df637be",
   "metadata": {},
   "source": [
    "# About the data\n",
    "\n",
    "The CustomerId column has too many unique values and if of no use\\\n",
    "The Surname has new values in the test dataset that are not present in the train dataset do drop it\\\n",
    "We can add a feature GoodCreditScore if credit score is greater than 670\\\n",
    "Geography , Gender NumOfProducts can be oneHot Encoded\\\n",
    "The last column Exited is the target column"
   ]
  },
  {
   "cell_type": "code",
   "execution_count": 6,
   "id": "59c38f22-d3b8-4ce6-8683-75c6ce99a4ee",
   "metadata": {},
   "outputs": [],
   "source": [
    "X_train = trainData.iloc[:,:-1].copy() \n",
    "y_train = trainData.iloc[:,-1]()\n",
    "X_test = pd.read_csv('./test.csv')"
   ]
  },
  {
   "cell_type": "code",
   "execution_count": 7,
   "id": "abaf66ed-47e5-42cc-a9a1-f60b9aabde36",
   "metadata": {},
   "outputs": [],
   "source": [
    "# Lable encoding Surname\n",
    "X_train.drop([\"Surname\",\"id\",\"CustomerId\"],inplace=True,axis=1)\n",
    "X_test.drop([\"Surname\",\"id\",\"CustomerId\"],inplace=True,axis=1)"
   ]
  },
  {
   "cell_type": "code",
   "execution_count": 9,
   "id": "d937fd19-1a82-4f42-9ff5-8241192892c5",
   "metadata": {},
   "outputs": [
    {
     "name": "stdout",
     "output_type": "stream",
     "text": [
      "Unique values in the 'NumOfProducts' column:\n",
      "[2 1 3 4]\n"
     ]
    }
   ],
   "source": [
    "column_name = 'NumOfProducts'  # Replace with the name of your column\n",
    "unique_values = trainData[column_name].unique()\n",
    "print(f\"Unique values in the '{column_name}' column:\")\n",
    "print(unique_values)"
   ]
  },
  {
   "cell_type": "code",
   "execution_count": 10,
   "id": "7c2ead77-a204-407a-b8c0-24a1249528a5",
   "metadata": {},
   "outputs": [],
   "source": [
    "# One hot encoding\n",
    "catCols = ['Geography', 'Gender', 'NumOfProducts']\n",
    "\n",
    "oneHot = OneHotEncoder()\n",
    "X_train_encoded = oneHot.fit_transform(X_train[catCols])\n",
    "X_test_encoded = oneHot.transform(X_test[catCols])\n",
    "\n",
    "# Get the new column names from the one-hot encoder\n",
    "newCols = oneHot.get_feature_names_out(catCols)\n",
    "\n",
    "# Add the one-hot encoded columns to the existing DataFrames\n",
    "X_train = pd.concat([X_train, pd.DataFrame(X_train_encoded.toarray(), columns=newCols, index=X_train.index)], axis=1)\n",
    "X_test = pd.concat([X_test, pd.DataFrame(X_test_encoded.toarray(), columns=newCols, index=X_test.index)], axis=1)\n",
    "\n",
    "# Drop the original categorical columns\n",
    "X_train.drop(catCols, inplace=True, axis=1)\n",
    "X_test.drop(catCols, inplace=True, axis=1)"
   ]
  },
  {
   "cell_type": "code",
   "execution_count": 11,
   "id": "a7a1563d-320e-41e2-a6f3-0f42baabe5c5",
   "metadata": {},
   "outputs": [],
   "source": [
    "scaler = StandardScaler()\n",
    "X_train_scaled = pd.DataFrame(scaler.fit_transform(X_train),columns=X_train.columns)\n",
    "X_test_scaled = pd.DataFrame(scaler.transform(X_test),columns=X_test.columns)"
   ]
  },
  {
   "cell_type": "code",
   "execution_count": 12,
   "id": "08d69bf1-38c6-4f88-8917-39db278afb06",
   "metadata": {},
   "outputs": [],
   "source": [
    "# model = keras.Sequential([\n",
    "#     layers.Dense(16,activation='relu'),\n",
    "#     layers.Dropout(0.25),\n",
    "#     layers.Dense(8,activation='relu'),\n",
    "#     layers.Dense(4,activation='relu'),\n",
    "#     layers.Dense(1,activation='sigmoid')\n",
    "# ])\n",
    "model = keras.Sequential([\n",
    "    layers.Dense(32,activation='relu'),\n",
    "    layers.Dropout(0.25),\n",
    "    layers.Dense(16,activation='relu'),\n",
    "    layers.Dropout(0.25),\n",
    "    layers.Dense(4,activation='relu'),\n",
    "    layers.Dense(1,activation='sigmoid')\n",
    "])"
   ]
  },
  {
   "cell_type": "code",
   "execution_count": 13,
   "id": "b9ef5ecc-8a8a-472f-87c5-40d136c7ca08",
   "metadata": {},
   "outputs": [],
   "source": [
    "from keras.metrics import AUC\n",
    "model.compile( optimizer='adam',loss='binary_crossentropy',metrics=[\"accuracy\",AUC()])"
   ]
  },
  {
   "cell_type": "code",
   "execution_count": 14,
   "id": "a6338793-f65a-4b68-8b0a-490b3a8a5067",
   "metadata": {},
   "outputs": [],
   "source": [
    "x,x_v,y,y_v = train_test_split(X_train_scaled,y_train) "
   ]
  },
  {
   "cell_type": "code",
   "execution_count": 15,
   "id": "977e85a1-2d45-440d-bad9-d067fdecfa94",
   "metadata": {},
   "outputs": [
    {
     "data": {
      "text/plain": [
       "(41259, 16)"
      ]
     },
     "execution_count": 15,
     "metadata": {},
     "output_type": "execute_result"
    }
   ],
   "source": [
    "x_v.shape"
   ]
  },
  {
   "cell_type": "code",
   "execution_count": 16,
   "id": "203eef73-fb86-4277-a967-dedccc33e5ea",
   "metadata": {},
   "outputs": [
    {
     "name": "stdout",
     "output_type": "stream",
     "text": [
      "Epoch 1/40\n",
      "3868/3868 [==============================] - 14s 3ms/step - loss: 0.3632 - accuracy: 0.8472 - auc: 0.8549 - val_loss: 0.3349 - val_accuracy: 0.8582 - val_auc: 0.8792\n",
      "Epoch 2/40\n",
      "3868/3868 [==============================] - 9s 2ms/step - loss: 0.3410 - accuracy: 0.8581 - auc: 0.8729 - val_loss: 0.3315 - val_accuracy: 0.8601 - val_auc: 0.8813\n",
      "Epoch 3/40\n",
      "3868/3868 [==============================] - 12s 3ms/step - loss: 0.3370 - accuracy: 0.8600 - auc: 0.8759 - val_loss: 0.3312 - val_accuracy: 0.8608 - val_auc: 0.8831\n",
      "Epoch 4/40\n",
      "3868/3868 [==============================] - 12s 3ms/step - loss: 0.3343 - accuracy: 0.8610 - auc: 0.8778 - val_loss: 0.3302 - val_accuracy: 0.8611 - val_auc: 0.8828\n",
      "Epoch 5/40\n",
      "3868/3868 [==============================] - 12s 3ms/step - loss: 0.3340 - accuracy: 0.8616 - auc: 0.8780 - val_loss: 0.3302 - val_accuracy: 0.8616 - val_auc: 0.8824\n",
      "Epoch 6/40\n",
      "3868/3868 [==============================] - 12s 3ms/step - loss: 0.3329 - accuracy: 0.8621 - auc: 0.8788 - val_loss: 0.3295 - val_accuracy: 0.8610 - val_auc: 0.8836\n",
      "Epoch 7/40\n",
      "3868/3868 [==============================] - 12s 3ms/step - loss: 0.3324 - accuracy: 0.8618 - auc: 0.8792 - val_loss: 0.3316 - val_accuracy: 0.8609 - val_auc: 0.8838\n",
      "Epoch 8/40\n",
      "3868/3868 [==============================] - 11s 3ms/step - loss: 0.3315 - accuracy: 0.8623 - auc: 0.8798 - val_loss: 0.3282 - val_accuracy: 0.8618 - val_auc: 0.8840\n",
      "Epoch 9/40\n",
      "3868/3868 [==============================] - 12s 3ms/step - loss: 0.3312 - accuracy: 0.8633 - auc: 0.8801 - val_loss: 0.3305 - val_accuracy: 0.8626 - val_auc: 0.8842\n",
      "Epoch 10/40\n",
      "3868/3868 [==============================] - 10s 3ms/step - loss: 0.3308 - accuracy: 0.8623 - auc: 0.8804 - val_loss: 0.3290 - val_accuracy: 0.8616 - val_auc: 0.8839\n",
      "Epoch 11/40\n",
      "3868/3868 [==============================] - 12s 3ms/step - loss: 0.3304 - accuracy: 0.8628 - auc: 0.8805 - val_loss: 0.3302 - val_accuracy: 0.8621 - val_auc: 0.8849\n",
      "Epoch 12/40\n",
      "3868/3868 [==============================] - 12s 3ms/step - loss: 0.3294 - accuracy: 0.8638 - auc: 0.8813 - val_loss: 0.3292 - val_accuracy: 0.8617 - val_auc: 0.8843\n",
      "Epoch 13/40\n",
      "3868/3868 [==============================] - 12s 3ms/step - loss: 0.3299 - accuracy: 0.8639 - auc: 0.8809 - val_loss: 0.3282 - val_accuracy: 0.8622 - val_auc: 0.8844\n",
      "Epoch 14/40\n",
      "3868/3868 [==============================] - 12s 3ms/step - loss: 0.3293 - accuracy: 0.8628 - auc: 0.8818 - val_loss: 0.3316 - val_accuracy: 0.8622 - val_auc: 0.8844\n",
      "Epoch 15/40\n",
      "3868/3868 [==============================] - 12s 3ms/step - loss: 0.3286 - accuracy: 0.8634 - auc: 0.8824 - val_loss: 0.3323 - val_accuracy: 0.8607 - val_auc: 0.8844\n",
      "Epoch 16/40\n",
      "3868/3868 [==============================] - 12s 3ms/step - loss: 0.3291 - accuracy: 0.8638 - auc: 0.8820 - val_loss: 0.3296 - val_accuracy: 0.8615 - val_auc: 0.8845\n",
      "Epoch 17/40\n",
      "3868/3868 [==============================] - 12s 3ms/step - loss: 0.3296 - accuracy: 0.8629 - auc: 0.8816 - val_loss: 0.3306 - val_accuracy: 0.8609 - val_auc: 0.8845\n",
      "Epoch 18/40\n",
      "3868/3868 [==============================] - 12s 3ms/step - loss: 0.3292 - accuracy: 0.8638 - auc: 0.8818 - val_loss: 0.3315 - val_accuracy: 0.8606 - val_auc: 0.8841\n",
      "Epoch 19/40\n",
      "3868/3868 [==============================] - 12s 3ms/step - loss: 0.3294 - accuracy: 0.8631 - auc: 0.8816 - val_loss: 0.3310 - val_accuracy: 0.8610 - val_auc: 0.8849\n",
      "Epoch 20/40\n",
      "3868/3868 [==============================] - 12s 3ms/step - loss: 0.3295 - accuracy: 0.8631 - auc: 0.8815 - val_loss: 0.3319 - val_accuracy: 0.8613 - val_auc: 0.8850\n",
      "Epoch 21/40\n",
      "3868/3868 [==============================] - 12s 3ms/step - loss: 0.3285 - accuracy: 0.8637 - auc: 0.8820 - val_loss: 0.3313 - val_accuracy: 0.8620 - val_auc: 0.8847\n",
      "Epoch 22/40\n",
      "3868/3868 [==============================] - 12s 3ms/step - loss: 0.3286 - accuracy: 0.8633 - auc: 0.8823 - val_loss: 0.3303 - val_accuracy: 0.8615 - val_auc: 0.8850\n",
      "Epoch 23/40\n",
      "3868/3868 [==============================] - 11s 3ms/step - loss: 0.3289 - accuracy: 0.8635 - auc: 0.8820 - val_loss: 0.3352 - val_accuracy: 0.8614 - val_auc: 0.8847\n",
      "Epoch 24/40\n",
      "3868/3868 [==============================] - 11s 3ms/step - loss: 0.3290 - accuracy: 0.8628 - auc: 0.8819 - val_loss: 0.3294 - val_accuracy: 0.8604 - val_auc: 0.8853\n",
      "Epoch 25/40\n",
      "3868/3868 [==============================] - 12s 3ms/step - loss: 0.3286 - accuracy: 0.8632 - auc: 0.8821 - val_loss: 0.3316 - val_accuracy: 0.8618 - val_auc: 0.8849\n",
      "Epoch 26/40\n",
      "3868/3868 [==============================] - 11s 3ms/step - loss: 0.3282 - accuracy: 0.8635 - auc: 0.8825 - val_loss: 0.3300 - val_accuracy: 0.8611 - val_auc: 0.8851\n",
      "Epoch 27/40\n",
      "3868/3868 [==============================] - 12s 3ms/step - loss: 0.3286 - accuracy: 0.8631 - auc: 0.8821 - val_loss: 0.3306 - val_accuracy: 0.8609 - val_auc: 0.8852\n",
      "Epoch 28/40\n",
      "3868/3868 [==============================] - 10s 3ms/step - loss: 0.3278 - accuracy: 0.8633 - auc: 0.8828 - val_loss: 0.3306 - val_accuracy: 0.8602 - val_auc: 0.8849\n",
      "Epoch 29/40\n",
      "3868/3868 [==============================] - 11s 3ms/step - loss: 0.3288 - accuracy: 0.8631 - auc: 0.8820 - val_loss: 0.3308 - val_accuracy: 0.8617 - val_auc: 0.8853\n",
      "Epoch 30/40\n",
      "3868/3868 [==============================] - 12s 3ms/step - loss: 0.3282 - accuracy: 0.8633 - auc: 0.8824 - val_loss: 0.3339 - val_accuracy: 0.8617 - val_auc: 0.8850\n",
      "Epoch 31/40\n",
      "3868/3868 [==============================] - 11s 3ms/step - loss: 0.3284 - accuracy: 0.8641 - auc: 0.8821 - val_loss: 0.3310 - val_accuracy: 0.8611 - val_auc: 0.8850\n",
      "Epoch 32/40\n",
      "3868/3868 [==============================] - 12s 3ms/step - loss: 0.3283 - accuracy: 0.8640 - auc: 0.8825 - val_loss: 0.3316 - val_accuracy: 0.8608 - val_auc: 0.8846\n",
      "Epoch 33/40\n",
      "3868/3868 [==============================] - 12s 3ms/step - loss: 0.3279 - accuracy: 0.8637 - auc: 0.8827 - val_loss: 0.3297 - val_accuracy: 0.8619 - val_auc: 0.8853\n",
      "Epoch 34/40\n",
      "3868/3868 [==============================] - 11s 3ms/step - loss: 0.3281 - accuracy: 0.8643 - auc: 0.8827 - val_loss: 0.3298 - val_accuracy: 0.8620 - val_auc: 0.8857\n",
      "Epoch 35/40\n",
      "3868/3868 [==============================] - 12s 3ms/step - loss: 0.3283 - accuracy: 0.8638 - auc: 0.8824 - val_loss: 0.3329 - val_accuracy: 0.8612 - val_auc: 0.8852\n",
      "Epoch 36/40\n",
      "3868/3868 [==============================] - 12s 3ms/step - loss: 0.3279 - accuracy: 0.8639 - auc: 0.8827 - val_loss: 0.3331 - val_accuracy: 0.8610 - val_auc: 0.8847\n",
      "Epoch 37/40\n",
      "3868/3868 [==============================] - 12s 3ms/step - loss: 0.3279 - accuracy: 0.8645 - auc: 0.8826 - val_loss: 0.3300 - val_accuracy: 0.8610 - val_auc: 0.8846\n",
      "Epoch 38/40\n",
      "3868/3868 [==============================] - 13s 3ms/step - loss: 0.3279 - accuracy: 0.8635 - auc: 0.8827 - val_loss: 0.3344 - val_accuracy: 0.8605 - val_auc: 0.8850\n",
      "Epoch 39/40\n",
      "3868/3868 [==============================] - 11s 3ms/step - loss: 0.3277 - accuracy: 0.8629 - auc: 0.8827 - val_loss: 0.3317 - val_accuracy: 0.8621 - val_auc: 0.8851\n",
      "Epoch 40/40\n",
      "3868/3868 [==============================] - 12s 3ms/step - loss: 0.3281 - accuracy: 0.8640 - auc: 0.8827 - val_loss: 0.3303 - val_accuracy: 0.8613 - val_auc: 0.8854\n"
     ]
    }
   ],
   "source": [
    "history = model.fit(x,y,epochs=40,validation_data=(x_v,y_v))"
   ]
  },
  {
   "cell_type": "code",
   "execution_count": 17,
   "id": "64e71a0b-45e1-46a1-a5cd-dcc56d3dd54b",
   "metadata": {},
   "outputs": [
    {
     "data": {
      "text/plain": [
       "dtype('int64')"
      ]
     },
     "execution_count": 17,
     "metadata": {},
     "output_type": "execute_result"
    }
   ],
   "source": [
    "y_train.dtypes"
   ]
  },
  {
   "cell_type": "code",
   "execution_count": 19,
   "id": "317ef5e9-cb93-4cc7-937f-2a19243aa96c",
   "metadata": {},
   "outputs": [
    {
     "data": {
      "text/plain": [
       "dict_keys(['loss', 'accuracy', 'auc', 'val_loss', 'val_accuracy', 'val_auc'])"
      ]
     },
     "execution_count": 19,
     "metadata": {},
     "output_type": "execute_result"
    }
   ],
   "source": [
    "history_dict = history.history\n",
    "history_dict.keys()"
   ]
  },
  {
   "cell_type": "code",
   "execution_count": 21,
   "id": "249f69ee-f6f8-4ea0-b5e5-8db323581420",
   "metadata": {},
   "outputs": [
    {
     "data": {
      "image/png": "[encoded data removed]",
      "text/plain": [
       "<Figure size 640x480 with 1 Axes>"
      ]
     },
     "metadata": {},
     "output_type": "display_data"
    }
   ],
   "source": [
    "accuracy = history_dict['accuracy']\n",
    "val_accuracy = history_dict['val_accuracy']\n",
    "auc = history_dict['auc']\n",
    "val_auc = history_dict['val_auc']\n",
    "epochs = range(1,len(accuracy)+1)\n",
    "plt.plot(epochs, auc, \"bo\", label=\"Training auc\")\n",
    "plt.plot(epochs, val_auc, \"b\", label=\"Validation auc\") \n",
    "plt.legend()\n",
    "plt.show()"
   ]
  },
  {
   "cell_type": "code",
   "execution_count": 22,
   "id": "8e3c8a27-3d15-459e-9ec7-b05f5c1bbcd4",
   "metadata": {},
   "outputs": [
    {
     "data": {
      "image/png": "[encoded data removed]",
      "text/plain": [
       "<Figure size 640x480 with 1 Axes>"
      ]
     },
     "metadata": {},
     "output_type": "display_data"
    }
   ],
   "source": [
    "plt.plot(epochs, accuracy, \"ro\", label=\"Training accuracy\")\n",
    "plt.plot(epochs, val_accuracy, \"r\", label=\"Validation accuracy\") \n",
    "plt.legend()\n",
    "plt.show()"
   ]
  },
  {
   "cell_type": "code",
   "execution_count": 23,
   "id": "f21c5ad4-db4d-43ae-8b21-ec27db7ea34d",
   "metadata": {},
   "outputs": [
    {
     "name": "stdout",
     "output_type": "stream",
     "text": [
      "3439/3439 [==============================] - 5s 1ms/step\n"
     ]
    }
   ],
   "source": [
    "NNresults = model.predict(X_test_scaled)"
   ]
  },
  {
   "cell_type": "code",
   "execution_count": null,
   "id": "a654d8b7-89d5-48fd-af70-4449c6ef10af",
   "metadata": {},
   "outputs": [],
   "source": [
    "# predictions = predictions.reshape(-1)\n",
    "# results_df = pd.DataFrame(data={'id':testData.iloc[:,0], 'Exited': predictions})\n",
    "# results_df.head()\n",
    "# results_df.to_csv('nnSubmission.csv',index=False)"
   ]
  },
  {
   "cell_type": "markdown",
   "id": "728ba048-19c7-4d93-9ba7-b4bfea46c548",
   "metadata": {},
   "source": [
    "# Implementing Catboost classifier"
   ]
  },
  {
   "cell_type": "code",
   "execution_count": 24,
   "id": "e960cecf-1bc5-4be1-9aa5-34f0481e724b",
   "metadata": {},
   "outputs": [],
   "source": [
    "from sklearn.model_selection import RandomizedSearchCV\n",
    "from catboost import CatBoostClassifier"
   ]
  },
  {
   "cell_type": "code",
   "execution_count": 36,
   "id": "1b0c0f51-a499-4ce9-92f9-47ea8100286f",
   "metadata": {},
   "outputs": [
    {
     "data": {
      "text/plain": [
       "Index(['id', 'CustomerId', 'Surname', 'CreditScore', 'Geography', 'Gender',\n",
       "       'Age', 'Tenure', 'Balance', 'NumOfProducts', 'HasCrCard',\n",
       "       'IsActiveMember', 'EstimatedSalary', 'Exited'],\n",
       "      dtype='object')"
      ]
     },
     "execution_count": 36,
     "metadata": {},
     "output_type": "execute_result"
    }
   ],
   "source": [
    "trainData = pd.read_csv('./train.csv')\n",
    "trainData.columns"
   ]
  },
  {
   "cell_type": "code",
   "execution_count": 37,
   "id": "c14f45fd-4f1f-407e-b551-3d216706494b",
   "metadata": {},
   "outputs": [],
   "source": [
    "X = trainData.iloc[:,:-1] \n",
    "y = trainData.iloc[:,-1]\n",
    "X_test = pd.read_csv('./test.csv')\n",
    "X.drop([\"Surname\",\"id\",\"CustomerId\"],inplace=True,axis=1)\n",
    "X_test.drop([\"Surname\",\"id\",\"CustomerId\"],inplace=True,axis=1)"
   ]
  },
  {
   "cell_type": "code",
   "execution_count": 38,
   "id": "4adcab24-99c6-4fab-a9dc-98129649b4a4",
   "metadata": {},
   "outputs": [],
   "source": [
    "# Using apply(str) method\n",
    "# Convert float columns to string\n",
    "# X_train['HasCrCard'] = X_train['HasCrCard'].astype(str)\n",
    "# X_train['IsActiveMember'] = X_train['IsActiveMember'].astype(str)\n",
    "# X_train['Geography'] = X_train['Geography'].astype(str)\n",
    "# X_train['Gender'] = X_train['Gender'].astype(str)\n",
    "\n",
    "\n",
    "# # Repeat for X_val and X_test if necessary\n",
    "# X_val['HasCrCard'] = X_val['HasCrCard'].astype(str)\n",
    "# X_val['IsActiveMember'] = X_val['IsActiveMember'].astype(str)\n",
    "# X_val['Geography'] = X_val['Geography'].astype(str)\n",
    "# X_val['Gender'] = X_val['Gender'].astype(str)\n",
    "\n",
    "\n",
    "X_test['HasCrCard'] = X_test['HasCrCard'].astype(str)\n",
    "X_test['IsActiveMember'] = X_test['IsActiveMember'].astype(str)\n",
    "X_test['Geography'] = X_test['Geography'].astype(str)\n",
    "X_test['Gender'] = X_test['Gender'].astype(str)\n",
    "\n",
    "X['HasCrCard'] = X['HasCrCard'].astype(str)\n",
    "X['IsActiveMember'] = X['IsActiveMember'].astype(str)\n",
    "X['Geography'] = X['Geography'].astype(str)\n",
    "X['Gender'] = X['Gender'].astype(str)\n"
   ]
  },
  {
   "cell_type": "code",
   "execution_count": 43,
   "id": "ab168d08-abf0-4b74-93f3-565954c40d53",
   "metadata": {},
   "outputs": [],
   "source": [
    "X_train,X_val,y_train,y_val = train_test_split(X,y)"
   ]
  },
  {
   "cell_type": "code",
   "execution_count": 45,
   "id": "8cf1eb7e-a362-4cb1-b43d-109b8478fb75",
   "metadata": {},
   "outputs": [
    {
     "name": "stdout",
     "output_type": "stream",
     "text": [
      "CPU times: total: 0 ns\n",
      "Wall time: 0 ns\n"
     ]
    }
   ],
   "source": [
    "%%time\n",
    "\n",
    "catCols = ['Tenure','NumOfProducts','HasCrCard','IsActiveMember','Geography','Gender']\n",
    "catColsIndices = [X.columns.get_loc(col) for col in catCols]\n",
    "catColsIndices\n",
    "\n",
    "params = {\n",
    "    'eval_metric' : 'AUC' ,\n",
    "    'verbose' : 200, \n",
    "    'cat_features' : catColsIndices,\n",
    "    'early_stopping_rounds' : 50,\n",
    "    'task_type' : 'GPU'\n",
    "}\n",
    "\n"
   ]
  },
  {
   "cell_type": "code",
   "execution_count": 46,
   "id": "f0dbac0e-dfdb-4112-94b6-3dd056fe7753",
   "metadata": {},
   "outputs": [],
   "source": [
    "from catboost import Pool\n",
    "\n",
    "trainPool = Pool(X_train,label=y_train,cat_features=  catColsIndices)\n",
    "valPool = Pool(X_val,label = y_val,cat_features = catColsIndices) \n",
    "testPool = Pool(X_test,cat_features=catColsIndices) "
   ]
  },
  {
   "cell_type": "code",
   "execution_count": 47,
   "id": "796012e6-7717-4321-8e6b-67ca8b98a97d",
   "metadata": {},
   "outputs": [
    {
     "data": {
      "application/vnd.jupyter.widget-view+json": {
       "model_id": "7274ddf2d42a4cc5baceddf836dd2b21",
       "version_major": 2,
       "version_minor": 0
      },
      "text/plain": [
       "MetricVisualizer(layout=Layout(align_self='stretch', height='500px'))"
      ]
     },
     "metadata": {},
     "output_type": "display_data"
    },
    {
     "name": "stdout",
     "output_type": "stream",
     "text": [
      "Learning rate set to 0.024282\n"
     ]
    },
    {
     "name": "stderr",
     "output_type": "stream",
     "text": [
      "Default metric period is 5 because AUC is/are not implemented for GPU\n"
     ]
    },
    {
     "name": "stdout",
     "output_type": "stream",
     "text": [
      "0:\ttest: 0.8765415\tbest: 0.8765415 (0)\ttotal: 133ms\tremaining: 11m 3s\n",
      "bestTest = 0.8931997418\n",
      "bestIteration = 1192\n",
      "Shrink model to first 1193 iterations.\n",
      "CPU times: total: 1min 1s\n",
      "Wall time: 1min 19s\n"
     ]
    },
    {
     "data": {
      "text/plain": [
       "<catboost.core.CatBoostClassifier at 0x1d2ef5b2450>"
      ]
     },
     "execution_count": 47,
     "metadata": {},
     "output_type": "execute_result"
    }
   ],
   "source": [
    "%%time \n",
    "cbcInit = CatBoostClassifier(iterations=5000,**params)\n",
    "cbcInit.fit(trainPool, eval_set=valPool, verbose=2000, plot=True)"
   ]
  },
  {
   "cell_type": "code",
   "execution_count": 48,
   "id": "6f346ea6-832f-4689-b576-4e3c4d3ab97b",
   "metadata": {},
   "outputs": [],
   "source": [
    "catResults = cbcInit.predict_proba(X_test)"
   ]
  },
  {
   "cell_type": "code",
   "execution_count": 49,
   "id": "eb301623-e3a1-4ddb-ad27-ec9f1aa08301",
   "metadata": {},
   "outputs": [
    {
     "data": {
      "text/plain": [
       "array([ 3.48584768,  5.98754626,  4.29527958, 20.11388801,  1.16477606,\n",
       "       10.40158225, 39.57019919,  1.07841675, 10.80806695,  3.09439728])"
      ]
     },
     "execution_count": 49,
     "metadata": {},
     "output_type": "execute_result"
    }
   ],
   "source": [
    "cbcInit.feature_importances_"
   ]
  },
  {
   "cell_type": "code",
   "execution_count": null,
   "id": "ab8d2a71-9fd5-4488-80a4-49b10e99a7a2",
   "metadata": {},
   "outputs": [],
   "source": [
    "# predictions = predictions[:,1]\n",
    "# predictions = predictions.reshape(-1)\n",
    "# results_df = pd.DataFrame(data={'id':testData.iloc[:,0], 'Exited': predictions})\n",
    "# results_df.head()\n",
    "# results_df.to_csv('nnSubmission.csv',index=False)"
   ]
  },
  {
   "cell_type": "markdown",
   "id": "54424388-9703-4059-b63a-03407c881b75",
   "metadata": {},
   "source": [
    "# XG boost Clasifier"
   ]
  },
  {
   "cell_type": "code",
   "execution_count": 50,
   "id": "8fb978e3-e5df-4ed8-b094-8f431c2e35db",
   "metadata": {},
   "outputs": [],
   "source": [
    "from xgboost import XGBClassifier\n",
    "\n",
    "xgbClf = XGBClassifier(enable_categorical= True,device = 'cuda')\n",
    "\n",
    "X = trainData.iloc[:,:-1] \n",
    "y = trainData.iloc[:,-1]\n",
    "X_test = pd.read_csv('./test.csv')\n",
    "X.drop([\"Surname\",\"id\",\"CustomerId\"],inplace=True,axis=1)\n",
    "X_test.drop([\"Surname\",\"id\",\"CustomerId\"],inplace=True,axis=1)"
   ]
  },
  {
   "cell_type": "code",
   "execution_count": 51,
   "id": "eba2a20a-dbeb-408c-8db2-55d007e56961",
   "metadata": {},
   "outputs": [],
   "source": [
    "catCols = ['Tenure','NumOfProducts','HasCrCard','IsActiveMember','Geography','Gender']\n",
    "for col in catCols:\n",
    "    X[col] = X[col].astype(\"category\")\n",
    "    X_test[col] = X_test[col].astype(\"category\")    "
   ]
  },
  {
   "cell_type": "code",
   "execution_count": 52,
   "id": "a74315a8-0440-4ee4-a075-5c3686d76e19",
   "metadata": {},
   "outputs": [
    {
     "name": "stdout",
     "output_type": "stream",
     "text": [
      "CPU times: total: 1.48 s\n",
      "Wall time: 1.37 s\n"
     ]
    },
    {
     "data": {
      "text/html": [
       "<style>#sk-container-id-1 {\n",
       "  /* Definition of color scheme common for light and dark mode */\n",
       "  --sklearn-color-text: black;\n",
       "  --sklearn-color-line: gray;\n",
       "  /* Definition of color scheme for unfitted estimators */\n",
       "  --sklearn-color-unfitted-level-0: #fff5e6;\n",
       "  --sklearn-color-unfitted-level-1: #f6e4d2;\n",
       "  --sklearn-color-unfitted-level-2: #ffe0b3;\n",
       "  --sklearn-color-unfitted-level-3: chocolate;\n",
       "  /* Definition of color scheme for fitted estimators */\n",
       "  --sklearn-color-fitted-level-0: #f0f8ff;\n",
       "  --sklearn-color-fitted-level-1: #d4ebff;\n",
       "  --sklearn-color-fitted-level-2: #b3dbfd;\n",
       "  --sklearn-color-fitted-level-3: cornflowerblue;\n",
       "\n",
       "  /* Specific color for light theme */\n",
       "  --sklearn-color-text-on-default-background: var(--sg-text-color, var(--theme-code-foreground, var(--jp-content-font-color1, black)));\n",
       "  --sklearn-color-background: var(--sg-background-color, var(--theme-background, var(--jp-layout-color0, white)));\n",
       "  --sklearn-color-border-box: var(--sg-text-color, var(--theme-code-foreground, var(--jp-content-font-color1, black)));\n",
       "  --sklearn-color-icon: #696969;\n",
       "\n",
       "  @media (prefers-color-scheme: dark) {\n",
       "    /* Redefinition of color scheme for dark theme */\n",
       "    --sklearn-color-text-on-default-background: var(--sg-text-color, var(--theme-code-foreground, var(--jp-content-font-color1, white)));\n",
       "    --sklearn-color-background: var(--sg-background-color, var(--theme-background, var(--jp-layout-color0, #111)));\n",
       "    --sklearn-color-border-box: var(--sg-text-color, var(--theme-code-foreground, var(--jp-content-font-color1, white)));\n",
       "    --sklearn-color-icon: #878787;\n",
       "  }\n",
       "}\n",
       "\n",
       "#sk-container-id-1 {\n",
       "  color: var(--sklearn-color-text);\n",
       "}\n",
       "\n",
       "#sk-container-id-1 pre {\n",
       "  padding: 0;\n",
       "}\n",
       "\n",
       "#sk-container-id-1 input.sk-hidden--visually {\n",
       "  border: 0;\n",
       "  clip: rect(1px 1px 1px 1px);\n",
       "  clip: rect(1px, 1px, 1px, 1px);\n",
       "  height: 1px;\n",
       "  margin: -1px;\n",
       "  overflow: hidden;\n",
       "  padding: 0;\n",
       "  position: absolute;\n",
       "  width: 1px;\n",
       "}\n",
       "\n",
       "#sk-container-id-1 div.sk-dashed-wrapped {\n",
       "  border: 1px dashed var(--sklearn-color-line);\n",
       "  margin: 0 0.4em 0.5em 0.4em;\n",
       "  box-sizing: border-box;\n",
       "  padding-bottom: 0.4em;\n",
       "  background-color: var(--sklearn-color-background);\n",
       "}\n",
       "\n",
       "#sk-container-id-1 div.sk-container {\n",
       "  /* jupyter's `normalize.less` sets `[hidden] { display: none; }`\n",
       "     but bootstrap.min.css set `[hidden] { display: none !important; }`\n",
       "     so we also need the `!important` here to be able to override the\n",
       "     default hidden behavior on the sphinx rendered scikit-learn.org.\n",
       "     See: https://github.com/scikit-learn/scikit-learn/issues/21755 */\n",
       "  display: inline-block !important;\n",
       "  position: relative;\n",
       "}\n",
       "\n",
       "#sk-container-id-1 div.sk-text-repr-fallback {\n",
       "  display: none;\n",
       "}\n",
       "\n",
       "div.sk-parallel-item,\n",
       "div.sk-serial,\n",
       "div.sk-item {\n",
       "  /* draw centered vertical line to link estimators */\n",
       "  background-image: linear-gradient(var(--sklearn-color-text-on-default-background), var(--sklearn-color-text-on-default-background));\n",
       "  background-size: 2px 100%;\n",
       "  background-repeat: no-repeat;\n",
       "  background-position: center center;\n",
       "}\n",
       "\n",
       "/* Parallel-specific style estimator block */\n",
       "\n",
       "#sk-container-id-1 div.sk-parallel-item::after {\n",
       "  content: \"\";\n",
       "  width: 100%;\n",
       "  border-bottom: 2px solid var(--sklearn-color-text-on-default-background);\n",
       "  flex-grow: 1;\n",
       "}\n",
       "\n",
       "#sk-container-id-1 div.sk-parallel {\n",
       "  display: flex;\n",
       "  align-items: stretch;\n",
       "  justify-content: center;\n",
       "  background-color: var(--sklearn-color-background);\n",
       "  position: relative;\n",
       "}\n",
       "\n",
       "#sk-container-id-1 div.sk-parallel-item {\n",
       "  display: flex;\n",
       "  flex-direction: column;\n",
       "}\n",
       "\n",
       "#sk-container-id-1 div.sk-parallel-item:first-child::after {\n",
       "  align-self: flex-end;\n",
       "  width: 50%;\n",
       "}\n",
       "\n",
       "#sk-container-id-1 div.sk-parallel-item:last-child::after {\n",
       "  align-self: flex-start;\n",
       "  width: 50%;\n",
       "}\n",
       "\n",
       "#sk-container-id-1 div.sk-parallel-item:only-child::after {\n",
       "  width: 0;\n",
       "}\n",
       "\n",
       "/* Serial-specific style estimator block */\n",
       "\n",
       "#sk-container-id-1 div.sk-serial {\n",
       "  display: flex;\n",
       "  flex-direction: column;\n",
       "  align-items: center;\n",
       "  background-color: var(--sklearn-color-background);\n",
       "  padding-right: 1em;\n",
       "  padding-left: 1em;\n",
       "}\n",
       "\n",
       "\n",
       "/* Toggleable style: style used for estimator/Pipeline/ColumnTransformer box that is\n",
       "clickable and can be expanded/collapsed.\n",
       "- Pipeline and ColumnTransformer use this feature and define the default style\n",
       "- Estimators will overwrite some part of the style using the `sk-estimator` class\n",
       "*/\n",
       "\n",
       "/* Pipeline and ColumnTransformer style (default) */\n",
       "\n",
       "#sk-container-id-1 div.sk-toggleable {\n",
       "  /* Default theme specific background. It is overwritten whether we have a\n",
       "  specific estimator or a Pipeline/ColumnTransformer */\n",
       "  background-color: var(--sklearn-color-background);\n",
       "}\n",
       "\n",
       "/* Toggleable label */\n",
       "#sk-container-id-1 label.sk-toggleable__label {\n",
       "  cursor: pointer;\n",
       "  display: block;\n",
       "  width: 100%;\n",
       "  margin-bottom: 0;\n",
       "  padding: 0.5em;\n",
       "  box-sizing: border-box;\n",
       "  text-align: center;\n",
       "}\n",
       "\n",
       "#sk-container-id-1 label.sk-toggleable__label-arrow:before {\n",
       "  /* Arrow on the left of the label */\n",
       "  content: \"▸\";\n",
       "  float: left;\n",
       "  margin-right: 0.25em;\n",
       "  color: var(--sklearn-color-icon);\n",
       "}\n",
       "\n",
       "#sk-container-id-1 label.sk-toggleable__label-arrow:hover:before {\n",
       "  color: var(--sklearn-color-text);\n",
       "}\n",
       "\n",
       "/* Toggleable content - dropdown */\n",
       "\n",
       "#sk-container-id-1 div.sk-toggleable__content {\n",
       "  max-height: 0;\n",
       "  max-width: 0;\n",
       "  overflow: hidden;\n",
       "  text-align: left;\n",
       "  /* unfitted */\n",
       "  background-color: var(--sklearn-color-unfitted-level-0);\n",
       "}\n",
       "\n",
       "#sk-container-id-1 div.sk-toggleable__content.fitted {\n",
       "  /* fitted */\n",
       "  background-color: var(--sklearn-color-fitted-level-0);\n",
       "}\n",
       "\n",
       "#sk-container-id-1 div.sk-toggleable__content pre {\n",
       "  margin: 0.2em;\n",
       "  border-radius: 0.25em;\n",
       "  color: var(--sklearn-color-text);\n",
       "  /* unfitted */\n",
       "  background-color: var(--sklearn-color-unfitted-level-0);\n",
       "}\n",
       "\n",
       "#sk-container-id-1 div.sk-toggleable__content.fitted pre {\n",
       "  /* unfitted */\n",
       "  background-color: var(--sklearn-color-fitted-level-0);\n",
       "}\n",
       "\n",
       "#sk-container-id-1 input.sk-toggleable__control:checked~div.sk-toggleable__content {\n",
       "  /* Expand drop-down */\n",
       "  max-height: 200px;\n",
       "  max-width: 100%;\n",
       "  overflow: auto;\n",
       "}\n",
       "\n",
       "#sk-container-id-1 input.sk-toggleable__control:checked~label.sk-toggleable__label-arrow:before {\n",
       "  content: \"▾\";\n",
       "}\n",
       "\n",
       "/* Pipeline/ColumnTransformer-specific style */\n",
       "\n",
       "#sk-container-id-1 div.sk-label input.sk-toggleable__control:checked~label.sk-toggleable__label {\n",
       "  color: var(--sklearn-color-text);\n",
       "  background-color: var(--sklearn-color-unfitted-level-2);\n",
       "}\n",
       "\n",
       "#sk-container-id-1 div.sk-label.fitted input.sk-toggleable__control:checked~label.sk-toggleable__label {\n",
       "  background-color: var(--sklearn-color-fitted-level-2);\n",
       "}\n",
       "\n",
       "/* Estimator-specific style */\n",
       "\n",
       "/* Colorize estimator box */\n",
       "#sk-container-id-1 div.sk-estimator input.sk-toggleable__control:checked~label.sk-toggleable__label {\n",
       "  /* unfitted */\n",
       "  background-color: var(--sklearn-color-unfitted-level-2);\n",
       "}\n",
       "\n",
       "#sk-container-id-1 div.sk-estimator.fitted input.sk-toggleable__control:checked~label.sk-toggleable__label {\n",
       "  /* fitted */\n",
       "  background-color: var(--sklearn-color-fitted-level-2);\n",
       "}\n",
       "\n",
       "#sk-container-id-1 div.sk-label label.sk-toggleable__label,\n",
       "#sk-container-id-1 div.sk-label label {\n",
       "  /* The background is the default theme color */\n",
       "  color: var(--sklearn-color-text-on-default-background);\n",
       "}\n",
       "\n",
       "/* On hover, darken the color of the background */\n",
       "#sk-container-id-1 div.sk-label:hover label.sk-toggleable__label {\n",
       "  color: var(--sklearn-color-text);\n",
       "  background-color: var(--sklearn-color-unfitted-level-2);\n",
       "}\n",
       "\n",
       "/* Label box, darken color on hover, fitted */\n",
       "#sk-container-id-1 div.sk-label.fitted:hover label.sk-toggleable__label.fitted {\n",
       "  color: var(--sklearn-color-text);\n",
       "  background-color: var(--sklearn-color-fitted-level-2);\n",
       "}\n",
       "\n",
       "/* Estimator label */\n",
       "\n",
       "#sk-container-id-1 div.sk-label label {\n",
       "  font-family: monospace;\n",
       "  font-weight: bold;\n",
       "  display: inline-block;\n",
       "  line-height: 1.2em;\n",
       "}\n",
       "\n",
       "#sk-container-id-1 div.sk-label-container {\n",
       "  text-align: center;\n",
       "}\n",
       "\n",
       "/* Estimator-specific */\n",
       "#sk-container-id-1 div.sk-estimator {\n",
       "  font-family: monospace;\n",
       "  border: 1px dotted var(--sklearn-color-border-box);\n",
       "  border-radius: 0.25em;\n",
       "  box-sizing: border-box;\n",
       "  margin-bottom: 0.5em;\n",
       "  /* unfitted */\n",
       "  background-color: var(--sklearn-color-unfitted-level-0);\n",
       "}\n",
       "\n",
       "#sk-container-id-1 div.sk-estimator.fitted {\n",
       "  /* fitted */\n",
       "  background-color: var(--sklearn-color-fitted-level-0);\n",
       "}\n",
       "\n",
       "/* on hover */\n",
       "#sk-container-id-1 div.sk-estimator:hover {\n",
       "  /* unfitted */\n",
       "  background-color: var(--sklearn-color-unfitted-level-2);\n",
       "}\n",
       "\n",
       "#sk-container-id-1 div.sk-estimator.fitted:hover {\n",
       "  /* fitted */\n",
       "  background-color: var(--sklearn-color-fitted-level-2);\n",
       "}\n",
       "\n",
       "/* Specification for estimator info (e.g. \"i\" and \"?\") */\n",
       "\n",
       "/* Common style for \"i\" and \"?\" */\n",
       "\n",
       ".sk-estimator-doc-link,\n",
       "a:link.sk-estimator-doc-link,\n",
       "a:visited.sk-estimator-doc-link {\n",
       "  float: right;\n",
       "  font-size: smaller;\n",
       "  line-height: 1em;\n",
       "  font-family: monospace;\n",
       "  background-color: var(--sklearn-color-background);\n",
       "  border-radius: 1em;\n",
       "  height: 1em;\n",
       "  width: 1em;\n",
       "  text-decoration: none !important;\n",
       "  margin-left: 1ex;\n",
       "  /* unfitted */\n",
       "  border: var(--sklearn-color-unfitted-level-1) 1pt solid;\n",
       "  color: var(--sklearn-color-unfitted-level-1);\n",
       "}\n",
       "\n",
       ".sk-estimator-doc-link.fitted,\n",
       "a:link.sk-estimator-doc-link.fitted,\n",
       "a:visited.sk-estimator-doc-link.fitted {\n",
       "  /* fitted */\n",
       "  border: var(--sklearn-color-fitted-level-1) 1pt solid;\n",
       "  color: var(--sklearn-color-fitted-level-1);\n",
       "}\n",
       "\n",
       "/* On hover */\n",
       "div.sk-estimator:hover .sk-estimator-doc-link:hover,\n",
       ".sk-estimator-doc-link:hover,\n",
       "div.sk-label-container:hover .sk-estimator-doc-link:hover,\n",
       ".sk-estimator-doc-link:hover {\n",
       "  /* unfitted */\n",
       "  background-color: var(--sklearn-color-unfitted-level-3);\n",
       "  color: var(--sklearn-color-background);\n",
       "  text-decoration: none;\n",
       "}\n",
       "\n",
       "div.sk-estimator.fitted:hover .sk-estimator-doc-link.fitted:hover,\n",
       ".sk-estimator-doc-link.fitted:hover,\n",
       "div.sk-label-container:hover .sk-estimator-doc-link.fitted:hover,\n",
       ".sk-estimator-doc-link.fitted:hover {\n",
       "  /* fitted */\n",
       "  background-color: var(--sklearn-color-fitted-level-3);\n",
       "  color: var(--sklearn-color-background);\n",
       "  text-decoration: none;\n",
       "}\n",
       "\n",
       "/* Span, style for the box shown on hovering the info icon */\n",
       ".sk-estimator-doc-link span {\n",
       "  display: none;\n",
       "  z-index: 9999;\n",
       "  position: relative;\n",
       "  font-weight: normal;\n",
       "  right: .2ex;\n",
       "  padding: .5ex;\n",
       "  margin: .5ex;\n",
       "  width: min-content;\n",
       "  min-width: 20ex;\n",
       "  max-width: 50ex;\n",
       "  color: var(--sklearn-color-text);\n",
       "  box-shadow: 2pt 2pt 4pt #999;\n",
       "  /* unfitted */\n",
       "  background: var(--sklearn-color-unfitted-level-0);\n",
       "  border: .5pt solid var(--sklearn-color-unfitted-level-3);\n",
       "}\n",
       "\n",
       ".sk-estimator-doc-link.fitted span {\n",
       "  /* fitted */\n",
       "  background: var(--sklearn-color-fitted-level-0);\n",
       "  border: var(--sklearn-color-fitted-level-3);\n",
       "}\n",
       "\n",
       ".sk-estimator-doc-link:hover span {\n",
       "  display: block;\n",
       "}\n",
       "\n",
       "/* \"?\"-specific style due to the `<a>` HTML tag */\n",
       "\n",
       "#sk-container-id-1 a.estimator_doc_link {\n",
       "  float: right;\n",
       "  font-size: 1rem;\n",
       "  line-height: 1em;\n",
       "  font-family: monospace;\n",
       "  background-color: var(--sklearn-color-background);\n",
       "  border-radius: 1rem;\n",
       "  height: 1rem;\n",
       "  width: 1rem;\n",
       "  text-decoration: none;\n",
       "  /* unfitted */\n",
       "  color: var(--sklearn-color-unfitted-level-1);\n",
       "  border: var(--sklearn-color-unfitted-level-1) 1pt solid;\n",
       "}\n",
       "\n",
       "#sk-container-id-1 a.estimator_doc_link.fitted {\n",
       "  /* fitted */\n",
       "  border: var(--sklearn-color-fitted-level-1) 1pt solid;\n",
       "  color: var(--sklearn-color-fitted-level-1);\n",
       "}\n",
       "\n",
       "/* On hover */\n",
       "#sk-container-id-1 a.estimator_doc_link:hover {\n",
       "  /* unfitted */\n",
       "  background-color: var(--sklearn-color-unfitted-level-3);\n",
       "  color: var(--sklearn-color-background);\n",
       "  text-decoration: none;\n",
       "}\n",
       "\n",
       "#sk-container-id-1 a.estimator_doc_link.fitted:hover {\n",
       "  /* fitted */\n",
       "  background-color: var(--sklearn-color-fitted-level-3);\n",
       "}\n",
       "</style><div id=\"sk-container-id-1\" class=\"sk-top-container\"><div class=\"sk-text-repr-fallback\"><pre>XGBClassifier(base_score=None, booster=None, callbacks=None,\n",
       "              colsample_bylevel=None, colsample_bynode=None,\n",
       "              colsample_bytree=None, device=&#x27;cuda&#x27;, early_stopping_rounds=None,\n",
       "              enable_categorical=True, eval_metric=None, feature_types=None,\n",
       "              gamma=None, grow_policy=None, importance_type=None,\n",
       "              interaction_constraints=None, learning_rate=None, max_bin=None,\n",
       "              max_cat_threshold=None, max_cat_to_onehot=None,\n",
       "              max_delta_step=None, max_depth=None, max_leaves=None,\n",
       "              min_child_weight=None, missing=nan, monotone_constraints=None,\n",
       "              multi_strategy=None, n_estimators=None, n_jobs=None,\n",
       "              num_parallel_tree=None, random_state=None, ...)</pre><b>In a Jupyter environment, please rerun this cell to show the HTML representation or trust the notebook. <br />On GitHub, the HTML representation is unable to render, please try loading this page with nbviewer.org.</b></div><div class=\"sk-container\" hidden><div class=\"sk-item\"><div class=\"sk-estimator fitted sk-toggleable\"><input class=\"sk-toggleable__control sk-hidden--visually\" id=\"sk-estimator-id-1\" type=\"checkbox\" checked><label for=\"sk-estimator-id-1\" class=\"sk-toggleable__label fitted sk-toggleable__label-arrow fitted\">&nbsp;XGBClassifier<span class=\"sk-estimator-doc-link fitted\">i<span>Fitted</span></span></label><div class=\"sk-toggleable__content fitted\"><pre>XGBClassifier(base_score=None, booster=None, callbacks=None,\n",
       "              colsample_bylevel=None, colsample_bynode=None,\n",
       "              colsample_bytree=None, device=&#x27;cuda&#x27;, early_stopping_rounds=None,\n",
       "              enable_categorical=True, eval_metric=None, feature_types=None,\n",
       "              gamma=None, grow_policy=None, importance_type=None,\n",
       "              interaction_constraints=None, learning_rate=None, max_bin=None,\n",
       "              max_cat_threshold=None, max_cat_to_onehot=None,\n",
       "              max_delta_step=None, max_depth=None, max_leaves=None,\n",
       "              min_child_weight=None, missing=nan, monotone_constraints=None,\n",
       "              multi_strategy=None, n_estimators=None, n_jobs=None,\n",
       "              num_parallel_tree=None, random_state=None, ...)</pre></div> </div></div></div></div>"
      ],
      "text/plain": [
       "XGBClassifier(base_score=None, booster=None, callbacks=None,\n",
       "              colsample_bylevel=None, colsample_bynode=None,\n",
       "              colsample_bytree=None, device='cuda', early_stopping_rounds=None,\n",
       "              enable_categorical=True, eval_metric=None, feature_types=None,\n",
       "              gamma=None, grow_policy=None, importance_type=None,\n",
       "              interaction_constraints=None, learning_rate=None, max_bin=None,\n",
       "              max_cat_threshold=None, max_cat_to_onehot=None,\n",
       "              max_delta_step=None, max_depth=None, max_leaves=None,\n",
       "              min_child_weight=None, missing=nan, monotone_constraints=None,\n",
       "              multi_strategy=None, n_estimators=None, n_jobs=None,\n",
       "              num_parallel_tree=None, random_state=None, ...)"
      ]
     },
     "execution_count": 52,
     "metadata": {},
     "output_type": "execute_result"
    }
   ],
   "source": [
    "%%time \n",
    "xgbClf.fit(X,y)"
   ]
  },
  {
   "cell_type": "code",
   "execution_count": 53,
   "id": "829cdaf2-09ff-4da4-a775-3d320d65898e",
   "metadata": {},
   "outputs": [
    {
     "name": "stderr",
     "output_type": "stream",
     "text": [
      "C:\\Users\\abhir\\AppData\\Local\\Programs\\Python\\Python311\\Lib\\site-packages\\xgboost\\core.py:160: UserWarning: [15:21:29] WARNING: C:\\buildkite-agent\\builds\\buildkite-windows-cpu-autoscaling-group-i-0b3782d1791676daf-1\\xgboost\\xgboost-ci-windows\\src\\common\\error_msg.cc:58: Falling back to prediction using DMatrix due to mismatched devices. This might lead to higher memory usage and slower performance. XGBoost is running on: cuda:0, while the input data is on: cpu.\n",
      "Potential solutions:\n",
      "- Use a data structure that matches the device ordinal in the booster.\n",
      "- Set the device for booster before call to inplace_predict.\n",
      "\n",
      "This warning will only be shown once.\n",
      "\n",
      "  warnings.warn(smsg, UserWarning)\n"
     ]
    }
   ],
   "source": [
    "xgbResult = xgbClf.predict_proba(X_test)"
   ]
  },
  {
   "cell_type": "code",
   "execution_count": null,
   "id": "1c7786b0-6a26-4683-8f47-bacdb10decc8",
   "metadata": {},
   "outputs": [],
   "source": [
    "# predictions = results[:,1]\n",
    "# predictions = predictions.reshape(-1)\n",
    "# results_df = pd.DataFrame(data={'id':testData.iloc[:,0], 'Exited': predictions})\n",
    "# results_df.head()\n",
    "# results_df.to_csv('nnSubmission.csv',index=False)"
   ]
  },
  {
   "cell_type": "code",
   "execution_count": 54,
   "id": "02d99b18-e5ad-4ab0-b069-1729ea994c71",
   "metadata": {},
   "outputs": [
    {
     "data": {
      "text/plain": [
       "array([0.00758864, 0.04192649, 0.03805833, 0.0998963 , 0.00936214,\n",
       "       0.02387659, 0.59864056, 0.00934825, 0.1635569 , 0.00774585],\n",
       "      dtype=float32)"
      ]
     },
     "execution_count": 54,
     "metadata": {},
     "output_type": "execute_result"
    }
   ],
   "source": [
    "xgbClf.feature_importances_"
   ]
  },
  {
   "cell_type": "markdown",
   "id": "f2fe93c4-83a2-4b76-bf15-72575df7d22c",
   "metadata": {},
   "source": [
    "# Creating a model Ensemble by combining the outputs of the above 3 models"
   ]
  },
  {
   "cell_type": "code",
   "execution_count": 57,
   "id": "ac05c478-9199-4bb8-8942-24c5cbc85eef",
   "metadata": {},
   "outputs": [
    {
     "data": {
      "text/plain": [
       "array([[0.66126018, 0.02091342],\n",
       "       [0.39554402, 0.83124525],\n",
       "       [0.67448999, 0.0354755 ],\n",
       "       [0.57270776, 0.26377655],\n",
       "       [0.56643976, 0.35899819],\n",
       "       [0.64800514, 0.05136927],\n",
       "       [0.65520944, 0.04632182],\n",
       "       [0.64963391, 0.08893547],\n",
       "       [0.45527898, 0.6143532 ],\n",
       "       [0.66640357, 0.01467422]])"
      ]
     },
     "execution_count": 57,
     "metadata": {},
     "output_type": "execute_result"
    }
   ],
   "source": [
    "avgResult = (NNresults+catResults+xgbResult)/3\n",
    "avgResult[:10]"
   ]
  },
  {
   "cell_type": "code",
   "execution_count": 58,
   "id": "60080be2-783b-4673-949e-e778dbd7225a",
   "metadata": {},
   "outputs": [],
   "source": [
    "predictions = avgResult[:,1]\n",
    "predictions = predictions.reshape(-1)\n",
    "results_df = pd.DataFrame(data={'id':testData.iloc[:,0], 'Exited': predictions})\n",
    "results_df.head()\n",
    "results_df.to_csv('nnSubmission.csv',index=False)"
   ]
  },
  {
   "cell_type": "code",
   "execution_count": null,
   "id": "3a303d5f-d9fb-46dd-a37f-19606d9f6b2b",
   "metadata": {},
   "outputs": [],
   "source": []
  }
 ],
 "metadata": {
  "kernelspec": {
   "display_name": "Python 3 (ipykernel)",
   "language": "python",
   "name": "python3"
  },
  "language_info": {
   "codemirror_mode": {
    "name": "ipython",
    "version": 3
   },
   "file_extension": ".py",
   "mimetype": "text/x-python",
   "name": "python",
   "nbconvert_exporter": "python",
   "pygments_lexer": "ipython3",
   "version": "3.11.4"
  }
 },
 "nbformat": 4,
 "nbformat_minor": 5
}

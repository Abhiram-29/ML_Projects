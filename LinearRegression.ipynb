{
 "cells": [
  {
   "cell_type": "markdown",
   "id": "30767f4e-3322-41a0-9112-61c78e818a33",
   "metadata": {},
   "source": [
    "# Manual Implementation of Linear Regression\n",
    "In this notebook I have manually implemented linear regression including the Cost function and the Gradient Descent\n"
   ]
  },
  {
   "cell_type": "code",
   "execution_count": 18,
   "id": "9b408f46-30f7-472e-959f-f42f8dd086a6",
   "metadata": {},
   "outputs": [],
   "source": [
    "import numpy as np\n",
    "import matplotlib.pyplot as plt\n",
    "import copy\n",
    "import math"
   ]
  },
  {
   "cell_type": "code",
   "execution_count": 6,
   "id": "3eb7ecb3-1b1b-440f-93e8-050325b5efc1",
   "metadata": {},
   "outputs": [
    {
     "name": "stdout",
     "output_type": "stream",
     "text": [
      "[1. 2.] [300. 500.]\n"
     ]
    }
   ],
   "source": [
    "x_train = np.array([1.0,2.0])\n",
    "y_train = np.array([300.0,500.0])\n",
    "print(x_train,y_train)"
   ]
  },
  {
   "cell_type": "code",
   "execution_count": 7,
   "id": "699d9786-d5c8-481a-9eed-8378a2943c5e",
   "metadata": {},
   "outputs": [
    {
     "name": "stdout",
     "output_type": "stream",
     "text": [
      "2\n"
     ]
    }
   ],
   "source": [
    "m = x_train.shape[0]\n",
    "print(m)"
   ]
  },
  {
   "cell_type": "code",
   "execution_count": 8,
   "id": "db488870-e06f-4518-b971-caa96ce609d4",
   "metadata": {},
   "outputs": [
    {
     "data": {
      "text/plain": [
       "<matplotlib.collections.PathCollection at 0x22adb9f0bd0>"
      ]
     },
     "execution_count": 8,
     "metadata": {},
     "output_type": "execute_result"
    },
    {
     "data": {
      "image/png": "[encoded data removed]",
      "text/plain": [
       "<Figure size 640x480 with 1 Axes>"
      ]
     },
     "metadata": {},
     "output_type": "display_data"
    }
   ],
   "source": [
    "plt.scatter(x_train,y_train)"
   ]
  },
  {
   "cell_type": "code",
   "execution_count": 9,
   "id": "476a210d-1da8-4de1-8c54-d448b8698b7b",
   "metadata": {},
   "outputs": [],
   "source": [
    "def computeModel(x,w,b):\n",
    "    m = x.shape[0]\n",
    "    f_wb = np.zeros(m)\n",
    "    for i in range(m):\n",
    "        f_wb[i] = w*x[i]+b\n",
    "    return f_wb"
   ]
  },
  {
   "cell_type": "code",
   "execution_count": 10,
   "id": "e2929940-38b0-41c1-b487-79fd6774738e",
   "metadata": {},
   "outputs": [],
   "source": [
    "def computeCost(x,y,w,b):\n",
    "    m = len(x)\n",
    "    f_wb = computeModel(x,w,b)\n",
    "    total_cost = 0\n",
    "    for i in range(m):\n",
    "        total_cost += (f_wb[i]-y[i])**2\n",
    "    total_cost *= 1/(2*m)\n",
    "    return total_cost"
   ]
  },
  {
   "cell_type": "code",
   "execution_count": 11,
   "id": "e47e6f34-f973-483a-a98a-69651763649e",
   "metadata": {},
   "outputs": [],
   "source": [
    "def computeGradient(x,y,w,b):\n",
    "    m = len(x)\n",
    "    dj_dw,dj_db = 0,0\n",
    "    for i in range(m):\n",
    "        f_wb = w*x[i]+b\n",
    "        dj_db_i = f_wb-y[i]\n",
    "        dj_dw_i = dj_db_i*x[i]\n",
    "        dj_dw += dj_dw_i\n",
    "        dj_db += dj_db_i\n",
    "    dj_dw /=m\n",
    "    dj_db /=m\n",
    "    return dj_dw,dj_db"
   ]
  },
  {
   "cell_type": "code",
   "execution_count": 28,
   "id": "124679f4-399c-4fe3-92bd-34cce5fda13c",
   "metadata": {},
   "outputs": [],
   "source": [
    "def gradientDescent(x,y,w_in,b_in,alpha,num_itrs):\n",
    "    w,b = copy.deepcopy(w_in),copy.deepcopy(b_in)\n",
    "    w,b = w,b\n",
    "    cost_hist = []\n",
    "    p_hist = []\n",
    "    for i in range(num_itrs):\n",
    "        dj_dw,dj_db = computeGradient(x,y,w,b)\n",
    "        w -= alpha*dj_dw\n",
    "        b -= alpha*dj_db\n",
    "        cost_hist.append(computeCost(x,y,w,b))\n",
    "        if i% math.ceil(num_itrs/10) == 0:\n",
    "            print(f\"Iteration {i:4}: Cost {cost_hist[-1]:0.2e} \",\n",
    "                  f\"dj_dw: {dj_dw: 0.3e}, dj_db: {dj_db: 0.3e}  \",\n",
    "                  f\"w: {w: 0.3e}, b:{b: 0.5e}\")\n",
    "    return w,b"
   ]
  },
  {
   "cell_type": "code",
   "execution_count": 31,
   "id": "9826c2de-c369-485f-8d8c-a282c6b602d6",
   "metadata": {},
   "outputs": [
    {
     "name": "stdout",
     "output_type": "stream",
     "text": [
      "Iteration    0: Cost 7.93e+04  dj_dw: -6.500e+02, dj_db: -4.000e+02   w:  6.500e+00, b: 4.00000e+00\n",
      "Iteration 1000: Cost 3.41e+00  dj_dw: -3.712e-01, dj_db:  6.007e-01   w:  1.949e+02, b: 1.08228e+02\n",
      "Iteration 2000: Cost 7.93e-01  dj_dw: -1.789e-01, dj_db:  2.895e-01   w:  1.975e+02, b: 1.03966e+02\n",
      "Iteration 3000: Cost 1.84e-01  dj_dw: -8.625e-02, dj_db:  1.396e-01   w:  1.988e+02, b: 1.01912e+02\n",
      "Iteration 4000: Cost 4.28e-02  dj_dw: -4.158e-02, dj_db:  6.727e-02   w:  1.994e+02, b: 1.00922e+02\n",
      "Iteration 5000: Cost 9.95e-03  dj_dw: -2.004e-02, dj_db:  3.243e-02   w:  1.997e+02, b: 1.00444e+02\n",
      "Iteration 6000: Cost 2.31e-03  dj_dw: -9.660e-03, dj_db:  1.563e-02   w:  1.999e+02, b: 1.00214e+02\n",
      "Iteration 7000: Cost 5.37e-04  dj_dw: -4.657e-03, dj_db:  7.535e-03   w:  1.999e+02, b: 1.00103e+02\n",
      "Iteration 8000: Cost 1.25e-04  dj_dw: -2.245e-03, dj_db:  3.632e-03   w:  2.000e+02, b: 1.00050e+02\n",
      "Iteration 9000: Cost 2.90e-05  dj_dw: -1.082e-03, dj_db:  1.751e-03   w:  2.000e+02, b: 1.00024e+02\n",
      "199.99285075131766 100.011567727362\n"
     ]
    }
   ],
   "source": [
    "w_init = 0\n",
    "b_init = 0\n",
    "itrs = 10000\n",
    "alpha = 1.0e-2\n",
    "w_final,b_final = gradientDescent(x_train,y_train,w_init,b_init,alpha,itrs)\n",
    "print(w_final,b_final)"
   ]
  },
  {
   "cell_type": "code",
   "execution_count": null,
   "id": "cbdc5823-9900-4e96-97dc-947a39cddaaf",
   "metadata": {},
   "outputs": [],
   "source": []
  }
 ],
 "metadata": {
  "kernelspec": {
   "display_name": "Python 3 (ipykernel)",
   "language": "python",
   "name": "python3"
  },
  "language_info": {
   "codemirror_mode": {
    "name": "ipython",
    "version": 3
   },
   "file_extension": ".py",
   "mimetype": "text/x-python",
   "name": "python",
   "nbconvert_exporter": "python",
   "pygments_lexer": "ipython3",
   "version": "3.11.4"
  }
 },
 "nbformat": 4,
 "nbformat_minor": 5
}

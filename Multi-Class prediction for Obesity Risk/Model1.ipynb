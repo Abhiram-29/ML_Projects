{
 "cells": [
  {
   "cell_type": "code",
   "execution_count": 3,
   "id": "220593fb-05aa-49c7-b608-d90123dc65db",
   "metadata": {},
   "outputs": [],
   "source": [
    "import numpy as np \n",
    "import pandas as pd \n",
    "import matplotlib.pyplot as plt \n",
    "from xgboost import XGBClassifier\n",
    "import seaborn as sns \n",
    "from sklearn.preprocessing import OrdinalEncoder"
   ]
  },
  {
   "cell_type": "code",
   "execution_count": 9,
   "id": "1cdd6e69-cfd0-4793-9d5d-f7dbbc1aafeb",
   "metadata": {},
   "outputs": [],
   "source": [
    "X_train = pd.read_csv('./X_train.csv')\n",
    "X_test = pd.read_csv('./X_test.csv')\n",
    "train_data = pd.read_csv('./train.csv')"
   ]
  },
  {
   "cell_type": "code",
   "execution_count": 10,
   "id": "f7f423b5-adb8-4c0e-857e-9a5e49a7ffb3",
   "metadata": {},
   "outputs": [
    {
     "data": {
      "text/plain": [
       "0        3.0\n",
       "1        1.0\n",
       "2        0.0\n",
       "3        6.0\n",
       "4        3.0\n",
       "        ... \n",
       "20753    5.0\n",
       "20754    0.0\n",
       "20755    5.0\n",
       "20756    3.0\n",
       "20757    5.0\n",
       "Name: NObeyesdad, Length: 20758, dtype: float64"
      ]
     },
     "execution_count": 10,
     "metadata": {},
     "output_type": "execute_result"
    }
   ],
   "source": [
    "order = ['Insufficient_Weight', 'Normal_Weight',  'Overweight_Level_I',\n",
    "        'Overweight_Level_II','Obesity_Type_I',\n",
    "        'Obesity_Type_II', 'Obesity_Type_III']\n",
    "y_ord = OrdinalEncoder(categories=[order])\n",
    "y_encoded = y_ord.fit_transform(train_data[['NObeyesdad']])\n",
    "y_encoded = pd.Series(y_encoded.reshape(-1),name = 'NObeyesdad')\n",
    "y_encoded"
   ]
  },
  {
   "cell_type": "code",
   "execution_count": 28,
   "id": "25ac3b48-d1f7-42a9-bbf9-4b1d21d7257d",
   "metadata": {},
   "outputs": [],
   "source": [
    "xgb_clf = XGBClassifier(objective='multi:softmax', \n",
    "                            num_class=7, \n",
    "                            tree_methord = 'gpu_hist',\n",
    "                            eval_metric=['merror','mlogloss'],\n",
    "                            device = 'cuda'\n",
    "                            )"
   ]
  },
  {
   "cell_type": "code",
   "execution_count": 32,
   "id": "55159f30-c024-446e-b901-c875bfd5c968",
   "metadata": {},
   "outputs": [],
   "source": [
    "params = {'learning_rate': [0.06,0.1], 'max_depth': [3,4,5,6,7], 'n_estimators': [100,400,800]\n",
    "         # 'gamma': [0],\n",
    "         #  'subsample' : [0.9],\n",
    "         #  'alpha': [0.005]\n",
    "         }\n"
   ]
  },
  {
   "cell_type": "code",
   "execution_count": 18,
   "id": "18b167b8-9195-45a3-b436-138a91f6acfa",
   "metadata": {},
   "outputs": [],
   "source": [
    "from datetime import datetime\n",
    "def timer(start_time=None):\n",
    "    if not start_time:\n",
    "        start_time = datetime.now()\n",
    "        return start_time\n",
    "    elif start_time:\n",
    "        thour, temp_sec = divmod((datetime.now() - start_time).total_seconds(), 3600)\n",
    "        tmin, tsec = divmod(temp_sec, 60)\n",
    "        print('\\n Time taken: %i hours %i minutes and %s seconds.' % (thour, tmin, round(tsec, 2)))\n"
   ]
  },
  {
   "cell_type": "code",
   "execution_count": 15,
   "id": "85a6343a-7f2b-45e1-8ba3-f491a11e1ea2",
   "metadata": {},
   "outputs": [
    {
     "data": {
      "text/plain": [
       "((20758, 19), (20758,), (13840, 19))"
      ]
     },
     "execution_count": 15,
     "metadata": {},
     "output_type": "execute_result"
    }
   ],
   "source": [
    "X_train.shape,y_encoded.shape,X_test.shape"
   ]
  },
  {
   "cell_type": "code",
   "execution_count": 33,
   "id": "e83a46ea-f49f-4910-b902-324a464756bd",
   "metadata": {},
   "outputs": [
    {
     "name": "stderr",
     "output_type": "stream",
     "text": [
      "C:\\Users\\abhir\\AppData\\Local\\Programs\\Python\\Python311\\Lib\\site-packages\\xgboost\\core.py:160: UserWarning: [12:49:48] WARNING: C:\\buildkite-agent\\builds\\buildkite-windows-cpu-autoscaling-group-i-0b3782d1791676daf-1\\xgboost\\xgboost-ci-windows\\src\\learner.cc:742: \n",
      "Parameters: { \"tree_methord\" } are not used.\n",
      "\n",
      "  warnings.warn(smsg, UserWarning)\n"
     ]
    },
    {
     "name": "stdout",
     "output_type": "stream",
     "text": [
      "\n",
      " Time taken: 0 hours 22 minutes and 1.09 seconds.\n",
      "\n",
      " Best estimator:\n",
      "XGBClassifier(base_score=None, booster=None, callbacks=None,\n",
      "              colsample_bylevel=None, colsample_bynode=None,\n",
      "              colsample_bytree=None, device='cuda', early_stopping_rounds=None,\n",
      "              enable_categorical=False, eval_metric=['merror', 'mlogloss'],\n",
      "              feature_types=None, gamma=None, grow_policy=None,\n",
      "              importance_type=None, interaction_constraints=None,\n",
      "              learning_rate=0.06, max_bin=None, max_cat_threshold=None,\n",
      "              max_cat_to_onehot=None, max_delta_step=None, max_depth=6,\n",
      "              max_leaves=None, min_child_weight=None, missing=nan,\n",
      "              monotone_constraints=None, multi_strategy=None, n_estimators=100,\n",
      "              n_jobs=None, num_class=7, num_parallel_tree=None, ...)\n",
      "\n",
      " Best score:\n",
      "0.7933318062040438\n",
      "\n",
      " Best parameters:\n",
      "{'learning_rate': 0.06, 'max_depth': 6, 'n_estimators': 100}\n"
     ]
    }
   ],
   "source": [
    "from sklearn.model_selection import GridSearchCV\n",
    "start_time = timer(None)\n",
    "grid = GridSearchCV(xgb_clf,param_grid= params,cv = 5,n_jobs=-1)\n",
    "grid.fit(X_train,y_encoded)\n",
    "timer(start_time)\n",
    "print('\\n Best estimator:')\n",
    "print(grid.best_estimator_)\n",
    "print('\\n Best score:')\n",
    "print(grid.best_score_ * 2 - 1)\n",
    "print('\\n Best parameters:')\n",
    "print(grid.best_params_)"
   ]
  },
  {
   "cell_type": "code",
   "execution_count": 49,
   "id": "5ebe53cb-778d-4ab9-a11e-a1dc5b3100fa",
   "metadata": {},
   "outputs": [
    {
     "name": "stdout",
     "output_type": "stream",
     "text": [
      "13840\n"
     ]
    }
   ],
   "source": [
    "pred = grid.best_estimator_.predict(X_test)\n",
    "print(len(pred))\n",
    "y_test = []"
   ]
  },
  {
   "cell_type": "code",
   "execution_count": 50,
   "id": "da57e756-a4f3-4418-8c3b-6a0e04920dda",
   "metadata": {},
   "outputs": [
    {
     "data": {
      "text/plain": [
       "(['Obesity_Type_II',\n",
       "  'Overweight_Level_I',\n",
       "  'Obesity_Type_III',\n",
       "  'Obesity_Type_I',\n",
       "  'Obesity_Type_III'],\n",
       " array([5, 2, 6, 4, 6]),\n",
       " ['Insufficient_Weight',\n",
       "  'Normal_Weight',\n",
       "  'Overweight_Level_I',\n",
       "  'Overweight_Level_II',\n",
       "  'Obesity_Type_I',\n",
       "  'Obesity_Type_II',\n",
       "  'Obesity_Type_III'])"
      ]
     },
     "execution_count": 50,
     "metadata": {},
     "output_type": "execute_result"
    }
   ],
   "source": [
    "for i in range(len(pred)):\n",
    "    y_test.append(order[pred[i]])\n",
    "y_test[:5],pred[:5],order"
   ]
  },
  {
   "cell_type": "code",
   "execution_count": 51,
   "id": "2ff709cd-da2c-404c-b73d-adbfefcc68a1",
   "metadata": {},
   "outputs": [
    {
     "data": {
      "text/plain": [
       "13840"
      ]
     },
     "execution_count": 51,
     "metadata": {},
     "output_type": "execute_result"
    }
   ],
   "source": [
    "len(y_test)"
   ]
  },
  {
   "cell_type": "code",
   "execution_count": 52,
   "id": "d26e62a7-77d6-4199-89a8-215c9f5155f7",
   "metadata": {},
   "outputs": [
    {
     "data": {
      "text/plain": [
       "((13840, 17), 13840)"
      ]
     },
     "execution_count": 52,
     "metadata": {},
     "output_type": "execute_result"
    }
   ],
   "source": [
    "test_data = pd.read_csv('./test.csv')\n",
    "test_data.shape,len(y_test)"
   ]
  },
  {
   "cell_type": "code",
   "execution_count": 53,
   "id": "0d1efb4b-143e-4d2a-844b-67bd067d587e",
   "metadata": {},
   "outputs": [
    {
     "data": {
      "text/html": [
       "<div>\n",
       "<style scoped>\n",
       "    .dataframe tbody tr th:only-of-type {\n",
       "        vertical-align: middle;\n",
       "    }\n",
       "\n",
       "    .dataframe tbody tr th {\n",
       "        vertical-align: top;\n",
       "    }\n",
       "\n",
       "    .dataframe thead th {\n",
       "        text-align: right;\n",
       "    }\n",
       "</style>\n",
       "<table border=\"1\" class=\"dataframe\">\n",
       "  <thead>\n",
       "    <tr style=\"text-align: right;\">\n",
       "      <th></th>\n",
       "      <th>id</th>\n",
       "      <th>NObeyesdad</th>\n",
       "    </tr>\n",
       "  </thead>\n",
       "  <tbody>\n",
       "    <tr>\n",
       "      <th>0</th>\n",
       "      <td>20758</td>\n",
       "      <td>Obesity_Type_II</td>\n",
       "    </tr>\n",
       "    <tr>\n",
       "      <th>1</th>\n",
       "      <td>20759</td>\n",
       "      <td>Overweight_Level_I</td>\n",
       "    </tr>\n",
       "    <tr>\n",
       "      <th>2</th>\n",
       "      <td>20760</td>\n",
       "      <td>Obesity_Type_III</td>\n",
       "    </tr>\n",
       "    <tr>\n",
       "      <th>3</th>\n",
       "      <td>20761</td>\n",
       "      <td>Obesity_Type_I</td>\n",
       "    </tr>\n",
       "    <tr>\n",
       "      <th>4</th>\n",
       "      <td>20762</td>\n",
       "      <td>Obesity_Type_III</td>\n",
       "    </tr>\n",
       "  </tbody>\n",
       "</table>\n",
       "</div>"
      ],
      "text/plain": [
       "      id          NObeyesdad\n",
       "0  20758     Obesity_Type_II\n",
       "1  20759  Overweight_Level_I\n",
       "2  20760    Obesity_Type_III\n",
       "3  20761      Obesity_Type_I\n",
       "4  20762    Obesity_Type_III"
      ]
     },
     "execution_count": 53,
     "metadata": {},
     "output_type": "execute_result"
    }
   ],
   "source": [
    "y_test = pd.DataFrame({'id':test_data.id,'NObeyesdad':y_test})\n",
    "y_test.head()"
   ]
  },
  {
   "cell_type": "code",
   "execution_count": 54,
   "id": "89ac15c8-2ef1-40c1-ad77-3bab4ef580af",
   "metadata": {},
   "outputs": [],
   "source": [
    "y_test.to_csv('submission1.csv',index=False)"
   ]
  },
  {
   "cell_type": "code",
   "execution_count": 55,
   "id": "b7f7bc6c-7f32-43be-aed7-248e0953a096",
   "metadata": {},
   "outputs": [
    {
     "data": {
      "text/plain": [
       "(13840, 19)"
      ]
     },
     "execution_count": 55,
     "metadata": {},
     "output_type": "execute_result"
    }
   ],
   "source": [
    "X_test.shape"
   ]
  },
  {
   "cell_type": "code",
   "execution_count": 57,
   "id": "8bc22a86-5708-45c7-bf37-f89551fbf4f5",
   "metadata": {},
   "outputs": [],
   "source": [
    "y_encoded.to_csv('y_test.csv',index=False)"
   ]
  },
  {
   "cell_type": "code",
   "execution_count": null,
   "id": "cb333088-1a85-46b3-a830-16f05af002a3",
   "metadata": {},
   "outputs": [],
   "source": []
  }
 ],
 "metadata": {
  "kernelspec": {
   "display_name": "Python 3 (ipykernel)",
   "language": "python",
   "name": "python3"
  },
  "language_info": {
   "codemirror_mode": {
    "name": "ipython",
    "version": 3
   },
   "file_extension": ".py",
   "mimetype": "text/x-python",
   "name": "python",
   "nbconvert_exporter": "python",
   "pygments_lexer": "ipython3",
   "version": "3.11.4"
  }
 },
 "nbformat": 4,
 "nbformat_minor": 5
}
